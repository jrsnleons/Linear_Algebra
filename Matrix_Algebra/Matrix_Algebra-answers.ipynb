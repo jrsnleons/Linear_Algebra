{
 "cells": [
  {
   "cell_type": "markdown",
   "metadata": {},
   "source": [
    "1. Without the use of any python libraries or modules, develop a function that can perform matrix addition, given two numpy matrices."
   ]
  },
  {
   "cell_type": "code",
   "execution_count": 2,
   "metadata": {},
   "outputs": [
    {
     "name": "stdout",
     "output_type": "stream",
     "text": [
      "[3, 3]\n",
      "[7, -3]\n"
     ]
    }
   ],
   "source": [
    "def matrix_addition(matrix1, matrix2):\n",
    "    if len(matrix1) != len(matrix2) or len(matrix1[0]) != len(matrix2[0]):\n",
    "        raise ValueError(\"Matrice does not have the same dimensino\")\n",
    "\n",
    "    result = [[0 for _ in range(len(matrix1[0]))] for _ in range(len(matrix1))]\n",
    "\n",
    "    for i in range(len(matrix1)):\n",
    "        for j in range(len(matrix1[0])):\n",
    "            result[i][j] = matrix1[i][j] + matrix2[i][j]\n",
    "\n",
    "    return result\n",
    "\n",
    "# Example usage:\n",
    "matrix_a = [[1, 3],\n",
    "            [2, -1]]\n",
    "matrix_b = [[2, 0],\n",
    "            [5, -2]]\n",
    "\n",
    "result_matrix = matrix_addition(matrix_a, matrix_b)\n",
    "for row in result_matrix:\n",
    "    print(row)\n"
   ]
  },
  {
   "cell_type": "markdown",
   "metadata": {},
   "source": [
    "2. Without the use of any python libraries or modules, develop a function that can multiply two numpy matrices."
   ]
  },
  {
   "cell_type": "code",
   "execution_count": 3,
   "metadata": {},
   "outputs": [
    {
     "name": "stdout",
     "output_type": "stream",
     "text": [
      "[17, -6, 14]\n",
      "[-1, 2, -14]\n"
     ]
    }
   ],
   "source": [
    "def matrix_multiplication(matrix1, matrix2):\n",
    "    if len(matrix1[0]) != len(matrix2):\n",
    "        raise ValueError(\"Number of columns in the first matrix must be equal to the number of rows in the second matrix.\")\n",
    "\n",
    "    result = [[0 for _ in range(len(matrix2[0]))] for _ in range(len(matrix1))]\n",
    "\n",
    "    for i in range(len(matrix1)):\n",
    "        for j in range(len(matrix2[0])):\n",
    "            for k in range(len(matrix2)):\n",
    "                result[i][j] += matrix1[i][k] * matrix2[k][j]\n",
    "\n",
    "    return result\n",
    "\n",
    "matrix_a = [[1, 3],\n",
    "            [2, -1]]\n",
    "\n",
    "matrix_b = [[2, 0, -4],\n",
    "            [5, -2, 6]]\n",
    "\n",
    "result_matrix = matrix_multiplication(matrix_a, matrix_b)\n",
    "for row in result_matrix:\n",
    "    print(row)\n"
   ]
  },
  {
   "cell_type": "markdown",
   "metadata": {},
   "source": [
    "3. The rule of distributivity states that given two matrices $A$ and $B$ and a scalar, $k$, then $k(A+B)=kA+kB$. Instead of writing a proof mathematically, develop two codes for $k(A+B)$ and $kA+kB$."
   ]
  },
  {
   "cell_type": "code",
   "execution_count": 4,
   "metadata": {},
   "outputs": [
    {
     "name": "stdout",
     "output_type": "stream",
     "text": [
      "k(A+B):\n",
      "[20, 20, 20]\n",
      "[20, 20, 20]\n",
      "[20, 20, 20]\n",
      "\n",
      "kA + kB:\n",
      "[20, 20, 20]\n",
      "[20, 20, 20]\n",
      "[20, 20, 20]\n"
     ]
    }
   ],
   "source": [
    "def scalar_matrix_addition(k, matrix_a, matrix_b):\n",
    "    if len(matrix_a) != len(matrix_b) or len(matrix_a[0]) != len(matrix_b[0]):\n",
    "        raise ValueError(\"Matrices must have the same dimensions for addition.\")\n",
    "\n",
    "    result = [[0 for _ in range(len(matrix_a[0]))] for _ in range(len(matrix_a))]\n",
    "\n",
    "    for i in range(len(matrix_a)):\n",
    "        for j in range(len(matrix_a[0])):\n",
    "            result[i][j] = k * (matrix_a[i][j] + matrix_b[i][j])\n",
    "\n",
    "    return result\n",
    "\n",
    "def scalar_matrix_multiplication(k, matrix):\n",
    "    result = [[0 for _ in range(len(matrix[0]))] for _ in range(len(matrix))]\n",
    "\n",
    "    for i in range(len(matrix)):\n",
    "        for j in range(len(matrix[0])):\n",
    "            result[i][j] = k * matrix[i][j]\n",
    "\n",
    "    return result\n",
    "\n",
    "k = 2\n",
    "matrix_a = [[1, 2, 3], [4, 5, 6], [7, 8, 9]]\n",
    "matrix_b = [[9, 8, 7], [6, 5, 4], [3, 2, 1]]\n",
    "\n",
    "result_1 = scalar_matrix_addition(k, matrix_a, matrix_b)\n",
    "\n",
    "result_2a = scalar_matrix_multiplication(k, matrix_a)\n",
    "result_2b = scalar_matrix_multiplication(k, matrix_b)\n",
    "result_2 = matrix_addition(result_2a, result_2b)\n",
    "\n",
    "print(\"k(A+B):\")\n",
    "for row in result_1:\n",
    "    print(row)\n",
    "\n",
    "print(\"\\nkA + kB:\")\n",
    "for row in result_2:\n",
    "    print(row)\n"
   ]
  },
  {
   "cell_type": "markdown",
   "metadata": {},
   "source": [
    "4. Without using a python library or modules develop a function that can extract the diagonal of a numpy matrix."
   ]
  },
  {
   "cell_type": "code",
   "execution_count": 5,
   "metadata": {},
   "outputs": [
    {
     "name": "stdout",
     "output_type": "stream",
     "text": [
      "Diagonal Elements: [1, 5, 9]\n"
     ]
    }
   ],
   "source": [
    "def extract_diagonal(matrix):\n",
    "    if len(matrix) != len(matrix[0]):\n",
    "        raise ValueError(\"Matrix must be square for diagonal extraction.\")\n",
    "\n",
    "    diagonal = [matrix[i][i] for i in range(len(matrix))]\n",
    "\n",
    "    return diagonal\n",
    "\n",
    "matrix = [[1, 2, 3],\n",
    "          [4, 5, 6],\n",
    "          [7, 8, 9]]\n",
    "\n",
    "diagonal_elements = extract_diagonal(matrix)\n",
    "print(\"Diagonal Elements:\", diagonal_elements)\n"
   ]
  },
  {
   "cell_type": "markdown",
   "metadata": {},
   "source": [
    "5. Without using a python library or modules develop a function that can find a trace of a numpy matrix."
   ]
  },
  {
   "cell_type": "code",
   "execution_count": 7,
   "metadata": {},
   "outputs": [
    {
     "name": "stdout",
     "output_type": "stream",
     "text": [
      "Trace of the Matrix: 15\n"
     ]
    }
   ],
   "source": [
    "def matrix_trace(matrix):\n",
    "    # Check if the matrix is square\n",
    "    if len(matrix) != len(matrix[0]):\n",
    "        raise ValueError(\"Matrix must be square for trace calculation.\")\n",
    "\n",
    "    # Calculate the trace (sum of diagonal elements)\n",
    "    trace = sum(extract_diagonal(matrix))\n",
    "\n",
    "    return trace\n",
    "\n",
    "# Example usage:\n",
    "matrix = [[1, 2, 3], [4, 5, 6], [7, 8, 9]]\n",
    "\n",
    "trace_value = matrix_trace(matrix)\n",
    "print(\"Trace of the Matrix:\", trace_value)\n"
   ]
  },
  {
   "cell_type": "markdown",
   "metadata": {},
   "source": [
    "## Problem Solving"
   ]
  },
  {
   "cell_type": "markdown",
   "metadata": {},
   "source": [
    "### 1. Solve $X$ given that:\n",
    "$$\n",
    "A =\n",
    "\\begin{bmatrix}\n",
    "1 & 2 \\\\\n",
    "3 & 4 \\\\\n",
    "\\end{bmatrix},\n",
    "$$\n",
    "$$\n",
    "B =\n",
    "\\begin{bmatrix}\n",
    "-1 & 0 \\\\\n",
    "1 & 1 \\\\\n",
    "\\end{bmatrix}\n",
    "$$\n",
    "- $3X = A-2B$\n",
    "\n",
    "\n",
    "$$ X = \\frac{1}{3}\\left(\\begin{bmatrix} 1 & 2 \\\\ 3 & 4 \\end{bmatrix} - 2 \\cdot \\begin{bmatrix} -1 & 0 \\\\ 1 & 1 \\end{bmatrix}\\right)$$\n",
    "\n",
    "\n",
    "$$X = \\frac{1}{3}\\begin{bmatrix} 1 & 2 \\\\ 3 & 4 \\end{bmatrix} + \\frac{2}{3}\\begin{bmatrix} 1 & 0 \\\\ -1 & -1 \\end{bmatrix}$$\n",
    "\n",
    "\n",
    "$$X = \\begin{bmatrix} \\frac{1}{3} & \\frac{2}{3} \\\\ 1 & \\frac{4}{3} \\end{bmatrix}$$\n",
    "\n",
    "\n",
    "\n",
    "\n",
    "- $2(A-B+2X) = 3(X-B)$\n",
    "\n",
    "$$X = -\\frac{1}{7}\\left(2 \\cdot \\begin{bmatrix} 1 & 2 \\\\ 3 & 4 \\end{bmatrix} - \\begin{bmatrix} -1 & 0 \\\\ 1 & 1 \\end{bmatrix}\\right)$$\n",
    "\n",
    "$$X = -\\frac{1}{7}\\begin{bmatrix} 3 & 4 \\\\ 5 & 6 \\end{bmatrix}$$\n",
    "\n",
    "$$X = \\begin{bmatrix} -\\frac{3}{7} & -\\frac{4}{7} \\\\ -\\frac{5}{7} & -\\frac{6}{7} \\end{bmatrix}$$\n"
   ]
  },
  {
   "cell_type": "markdown",
   "metadata": {},
   "source": [
    "2. Write $B$ as a linear combination of the other matrices, if possible.\n",
    "\n",
    "\\begin{equation} \n",
    "A_1 = \\begin{bmatrix} 1 & 2 \\\\ -1 & 1 \\\\ \\end{bmatrix},\n",
    "\\end{equation}\n",
    "\\begin{equation} \n",
    "A_2 = \\begin{bmatrix} 0 & 1 \\\\ 2 & 1 \\\\ \\end{bmatrix},\n",
    "\\end{equation}\n",
    "\\begin{equation} \n",
    "B = \\begin{bmatrix} 2 & 5 \\\\ 0 & 3 \\\\ \\end{bmatrix}\n",
    "\\end{equation}\n"
   ]
  },
  {
   "cell_type": "markdown",
   "metadata": {},
   "source": [
    "Equations:\n",
    "B = c₁A₁ + c₂A₂\n",
    "\n",
    "Coefficients:\n",
    "c₁ = 2, c₂ = 1\n",
    "\n",
    "Linear Combination:\n",
    "B = 2A₁ + A₂\n",
    "\\begin{equation}\n",
    "B = \\begin{bmatrix} 2 & 5 \\\\ 0 & 3 \\end{bmatrix} = 2 \\cdot \\begin{bmatrix} 1 & 2 \\\\ -1 & 1 \\end{bmatrix} + \\begin{bmatrix} 0 & 1 \\\\ 2 & 1 \\end{bmatrix}\n",
    "\\end{equation}"
   ]
  },
  {
   "cell_type": "markdown",
   "metadata": {},
   "source": [
    "### 3. Given the following:\n",
    "\n",
    "\\begin{equation}\n",
    "A =\n",
    "\\begin{bmatrix}\n",
    "1 & 2 \\\\\n",
    "2 & 6 \\\\\n",
    "\\end{bmatrix},\n",
    "b_1 =\n",
    "\\begin{bmatrix}\n",
    "3 \\\\\n",
    "5 \\\\\n",
    "\\end{bmatrix},\n",
    "b_2 =\n",
    "\\begin{bmatrix}\n",
    "-1 \\\\\n",
    "2 \\\\\n",
    "\\end{bmatrix},\n",
    "b_3 =\n",
    "\\begin{bmatrix}\n",
    "2 \\\\\n",
    "0 \\\\\n",
    "\\end{bmatrix}\n",
    "\\end{equation}\n",
    "- Find $A^{-1}$, and use this to solve for $Ax=b_1,Ax=b_2,Ax=b_3$\n",
    "- Solve all three linear systems by row reducing the augmented matrix:\n",
    "\\begin{equation}\n",
    "\\begin{bmatrix}\n",
    "\\begin{array}{c|ccc}\n",
    "A &\n",
    "b_1 &\n",
    "b_2 &\n",
    "b_3 \\\\\n",
    "\\end{array}\n",
    "\\end{bmatrix}\n",
    "\\end{equation}"
   ]
  },
  {
   "cell_type": "markdown",
   "metadata": {},
   "source": [
    " Finding \\(A^{-1}\\):\n",
    "\n",
    "$$ A^{-1} = \\frac{1}{2} \\cdot \\begin{bmatrix} 6 & -2 \\\\ -2 & 1 \\end{bmatrix} = \\begin{bmatrix} 3 & -1 \\\\ -1 & 0.5 \\end{bmatrix} $$\n",
    "\n",
    "Solving \\(Ax = b_1\\):\n",
    "\n",
    "$$ x_1 = \\begin{bmatrix} 8 \\\\ -2 \\end{bmatrix} $$\n",
    "\n",
    " Solving \\(Ax = b_2\\):\n",
    "\n",
    "$$ x_2 = \\begin{bmatrix} 0 \\\\ 1 \\end{bmatrix} $$\n",
    "\n",
    " Solving \\(Ax = b_3\\):\n",
    "\n",
    "$$ x_3 = \\begin{bmatrix} 6 \\\\ -1 \\end{bmatrix} $$\n",
    "\n",
    " Row Reducing the Augmented Matrix:\n",
    "\n",
    "$$\n",
    "\\begin{bmatrix}\n",
    "\\begin{array}{c|ccc}\n",
    "A & b_1 & b_2 & b_3 \\\\\n",
    "\\end{array}\n",
    "\\end{bmatrix}\n",
    "$$\n",
    "\n",
    "$$ \\begin{bmatrix} 1 & 0 & 4 & -7 & 6 \\\\ 0 & 1 & -0.5 & 2 & -2 \\end{bmatrix} $$\n"
   ]
  },
  {
   "cell_type": "markdown",
   "metadata": {},
   "source": [
    "### 4. In each given, determine if $b$ in in $col(A)$, and $w$ is in $row(A)$\n",
    "\n",
    "\\begin{equation}\n",
    "A =\n",
    "\\begin{bmatrix}\n",
    "1 & 0 & -1 \\\\\n",
    "1 & 1 & 1 \\\\\n",
    "\\end{bmatrix},\n",
    "b =\n",
    "\\begin{bmatrix}\n",
    "3 \\\\\n",
    "2 \\\\\n",
    "\\end{bmatrix},\n",
    "w =\n",
    "\\begin{bmatrix}\n",
    "-1 &\n",
    "1 &\n",
    "1\n",
    "\\end{bmatrix},\n",
    "\\end{equation}\n",
    "\n",
    "\\begin{equation}\n",
    "A =\n",
    "\\begin{bmatrix}\n",
    "1 & 1 & -1 \\\\\n",
    "1 & 3 & 0 \\\\\n",
    "3 & -1 & -5 \\\\\n",
    "\\end{bmatrix},\n",
    "b =\n",
    "\\begin{bmatrix}\n",
    "1 \\\\\n",
    "2 \\\\\n",
    "1 \\\\\n",
    "\\end{bmatrix},\n",
    "w =\n",
    "\\begin{bmatrix}\n",
    "1 &\n",
    "-3 &\n",
    "-3\n",
    "\\end{bmatrix},\n",
    "\\end{equation}"
   ]
  },
  {
   "cell_type": "markdown",
   "metadata": {},
   "source": [
    "For the first given:\n",
    "\n",
    "$$\n",
    "A = \\begin{bmatrix} 1 & 0 & -1 \\\\ 1 & 1 & 1 \\end{bmatrix}, \\quad b = \\begin{bmatrix} 3 \\\\ 2 \\end{bmatrix}, \\quad w = \\begin{bmatrix} -1 & 1 & 1 \\end{bmatrix}\n",
    "$$\n",
    "\n",
    "For \\(b\\):\n",
    "\n",
    "Check if \\(b\\) is in \\(col(A)\\):\n",
    "\n",
    "$$ b \\notin col(A) $$\n",
    "\n",
    "For \\(w\\):\n",
    "\n",
    "Check if \\(w\\) is in \\(row(A)\\):\n",
    "\n",
    "$$ w \\in row(A) $$\n",
    "\n",
    "For the second given:\n",
    "\n",
    "$$\n",
    "A = \\begin{bmatrix} 1 & 1 & -1 \\\\ 1 & 3 & 0 \\\\ 3 & -1 & -5 \\end{bmatrix}, \\quad b = \\begin{bmatrix} 1 \\\\ 2 \\\\ 1 \\end{bmatrix}, \\quad w = \\begin{bmatrix} 1 & -3 & -3 \\end{bmatrix}\n",
    "$$\n",
    "\n",
    "For \\(b\\):\n",
    "\n",
    "Check if \\(b\\) is in \\(col(A)\\):\n",
    "\n",
    "$$ b \\in col(A) $$\n",
    "\n",
    "For \\(w\\):\n",
    "\n",
    "Check if \\(w\\) is in \\(row(A)\\):\n",
    "\n",
    "$$ w \\notin row(A) $$\n"
   ]
  },
  {
   "cell_type": "markdown",
   "metadata": {},
   "source": [
    "### 5. Find the rank and nullity of:\n",
    "\\begin{bmatrix}\n",
    "2 & 4 & 0 & 0 & 1 \\\\\n",
    "6 & 3 & 5 & 1 & 0 \\\\\n",
    "1 & 0 & 2 & 2 & 5 \\\\\n",
    "1 & 1 & 1 & 1 & 1 \\\\\n",
    "\\end{bmatrix},"
   ]
  },
  {
   "cell_type": "markdown",
   "metadata": {},
   "source": [
    "Given Matrix:\n",
    "\n",
    "$$\n",
    "\\begin{bmatrix}\n",
    "2 & 4 & 0 & 0 & 1 \\\\\n",
    "6 & 3 & 5 & 1 & 0 \\\\\n",
    "1 & 0 & 2 & 2 & 5 \\\\\n",
    "1 & 1 & 1 & 1 & 1 \\\\\n",
    "\\end{bmatrix}\n",
    "$$\n",
    "\n",
    "Rank and Nullity:\n",
    "\n",
    "The rank of the matrix is the maximum number of linearly independent rows or columns. The nullity is the dimension of the null space (kernel).\n",
    "\n",
    "Row Echelon Form:\n",
    "\n",
    "$$\n",
    "\\begin{bmatrix}\n",
    "1 & 2 & 0 & 0 & 3/2 \\\\\n",
    "0 & -9 & 5 & 1 & -9/2 \\\\\n",
    "0 & 0 & 1 & 1 & 4 \\\\\n",
    "0 & 0 & 0 & 0 & 0 \\\\\n",
    "\\end{bmatrix}\n",
    "$$\n",
    "\n",
    "Reduced Row Echelon Form:\n",
    "\n",
    "$$\n",
    "\\begin{bmatrix}\n",
    "1 & 0 & 2/3 & 0 & 1 \\\\\n",
    "0 & 1 & -5/9 & -1/9 & 1 \\\\\n",
    "0 & 0 & 0 & 0 & 0 \\\\\n",
    "0 & 0 & 0 & 0 & 0 \\\\\n",
    "\\end{bmatrix}\n",
    "$$\n",
    "\n",
    "**Rank:**\n",
    "\n",
    "The rank of the matrix is 2.\n",
    "\n",
    "**Nullity:**\n",
    "\n",
    "The nullity of the matrix is 3.\n"
   ]
  }
 ],
 "metadata": {
  "kernelspec": {
   "display_name": "Python 3",
   "language": "python",
   "name": "python3"
  },
  "language_info": {
   "codemirror_mode": {
    "name": "ipython",
    "version": 3
   },
   "file_extension": ".py",
   "mimetype": "text/x-python",
   "name": "python",
   "nbconvert_exporter": "python",
   "pygments_lexer": "ipython3",
   "version": "3.12.0"
  }
 },
 "nbformat": 4,
 "nbformat_minor": 2
}
