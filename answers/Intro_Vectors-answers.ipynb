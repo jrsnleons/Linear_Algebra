{
 "cells": [
  {
   "cell_type": "markdown",
   "id": "fc797152-edfb-462c-8b4d-7cc2d5108aa7",
   "metadata": {},
   "source": [
    "# Intro_Vectors Assignment\n",
    "### by Jerson Paul Leones"
   ]
  },
  {
   "cell_type": "markdown",
   "id": "0ec942c5-79a8-4083-8207-e5aec937387c",
   "metadata": {},
   "source": [
    "1. Let $\\textbf{u} = (1, -2, 4)$ and $\\textbf{v} = (3,5,1)$ $\\textbf{w} = (2,1,-3)$ find:<br>\n",
    "a. $3\\textbf{u}-2\\textbf{v}$<br>\n",
    "b. $5\\textbf{u}+3\\textbf{v}-4\\textbf{w}$<br>\n",
    "c. $\\textbf{u} \\cdotp \\textbf{v}$,$\\textbf{v} \\cdotp \\textbf{w}$, $\\textbf{u} \\cdotp \\textbf{w}$<br>\n",
    "d. ||$\\textbf{u}||, ||$\\textbf{v}||, ||$\\textbf{w}$||<br>\n",
    "e. If $\\theta$ is the angle between $\\textbf{u}$  and   $\\textbf{v}$, find $\\cos{\\theta}$.<br>\n",
    "f. If $\\alpha$ is the angle between $\\textbf{v}$  and   $\\textbf{w}$, find $\\cos{\\alpha}$.<br>\n",
    "g. If $\\beta$ is the angle between $\\textbf{u}$  and   $\\textbf{w}$, find $\\cos{\\beta}$.<br>\n",
    "h. Find $d(\\textbf{u},\\textbf{v})$.<br>\n",
    "i. Find $d(\\textbf{w},\\textbf{v})$.<br>\n",
    "j. Find $d(\\textbf{u},\\textbf{w})$. <br>\n",
    "k. Find $proj(\\textbf{u},\\textbf{v})$.<br>\n",
    "l. Find $proj(\\textbf{w},\\textbf{v})$.<br>\n",
    "m. Find $proj(\\textbf{u},\\textbf{w})$. <br>  \n",
    "<br>\n",
    "<br>"
   ]
  },
  {
   "cell_type": "markdown",
   "id": "59c67702-3002-4a90-83de-6c1893560e56",
   "metadata": {},
   "source": [
    "#### 1a. $3\\textbf{u}-2\\textbf{v}$<br>\n",
    "\n",
    "Manual Solution: \n",
    "\\begin{align}\n",
    "    3\\textbf{u}-2\\textbf{v} &= 3\\begin{bmatrix}\n",
    "           1 \\\\\n",
    "           -2 \\\\\n",
    "           4\n",
    "         \\end{bmatrix} - 2 \\begin{bmatrix}\n",
    "           3 \\\\\n",
    "           5 \\\\\n",
    "           1\n",
    "         \\end{bmatrix}= \\begin{bmatrix}\n",
    "           3 \\\\\n",
    "           -6 \\\\\n",
    "           12\n",
    "         \\end{bmatrix} + \\begin{bmatrix}\n",
    "           -6 \\\\\n",
    "           -25 \\\\\n",
    "           -2\n",
    "         \\end{bmatrix} = \\begin{bmatrix}\n",
    "           -3 \\\\\n",
    "           -16 \\\\\n",
    "           -10\n",
    "         \\end{bmatrix}\n",
    "    \\end{align}\n"
   ]
  },
  {
   "cell_type": "code",
   "execution_count": 14,
   "id": "e20e9d45-389c-4f41-9eb7-fb629cdd62b6",
   "metadata": {},
   "outputs": [
    {
     "name": "stdout",
     "output_type": "stream",
     "text": [
      "[ -3 -16  10]\n"
     ]
    }
   ],
   "source": [
    "#python solution for a\n",
    "import numpy as np\n",
    "\n",
    "u = np.array([1, -2, 4])\n",
    "v = np.array([3, 5, 1])\n",
    "\n",
    "print((3*u) - (2*v))"
   ]
  },
  {
   "cell_type": "markdown",
   "id": "c51f3d0a-feec-44d9-afe9-11095e5e4fe8",
   "metadata": {},
   "source": [
    "<br><br><br>\n",
    "#### 1b. $5\\textbf{u}+3\\textbf{v}-4\\textbf{w}$<br>\n",
    "\n",
    "Manual Solution: \n",
    "\\begin{align}\n",
    "        5\\textbf{u}+3\\textbf{v}-4\\textbf{w} \n",
    "\\end{align}\n",
    "<br>\n",
    "\\begin{align}\n",
    "    &= 5\\begin{bmatrix}\n",
    "           1 \\\\\n",
    "           -2 \\\\\n",
    "           4\n",
    "         \\end{bmatrix} + 3 \\begin{bmatrix}\n",
    "           3 \\\\\n",
    "           5 \\\\\n",
    "           1\n",
    "         \\end{bmatrix}- 4 \\begin{bmatrix}\n",
    "           2 \\\\\n",
    "           1 \\\\\n",
    "           -3\n",
    "         \\end{bmatrix}\n",
    "    \\end{align}\n",
    "<br>\n",
    "\\begin{align}\n",
    "   &= \\begin{bmatrix}\n",
    "        5 \\\\\n",
    "        -10 \\\\\n",
    "        20\n",
    "      \\end{bmatrix} + \\begin{bmatrix}\n",
    "        9 \\\\\n",
    "        15 \\\\\n",
    "        3\n",
    "      \\end{bmatrix} + \\begin{bmatrix}\n",
    "        -8 \\\\\n",
    "        -4 \\\\\n",
    "        12\n",
    "      \\end{bmatrix}\n",
    "    \\end{align}\n",
    "<br>\n",
    "\n",
    "\\begin{align}\n",
    "    &= \\begin{bmatrix}\n",
    "        6 \\\\\n",
    "        1 \\\\\n",
    "        35\n",
    "    \\end{bmatrix}\n",
    "\\end{align}\n",
    "      "
   ]
  },
  {
   "cell_type": "code",
   "execution_count": 13,
   "id": "6bdca3b2-8c40-42ed-b55b-57efdcb2a158",
   "metadata": {},
   "outputs": [
    {
     "name": "stdout",
     "output_type": "stream",
     "text": [
      "[ 6  1 35]\n"
     ]
    }
   ],
   "source": [
    "#python solution for b\n",
    "import numpy as np\n",
    "\n",
    "u = np.array([1, -2, 4])\n",
    "v = np.array([3, 5, 1])\n",
    "w = np.array([2, 1, -3])\n",
    "\n",
    "print((5*u) + (3*v) - (4*w))"
   ]
  },
  {
   "cell_type": "markdown",
   "id": "ee9d0996-73a6-4127-b481-068787da3669",
   "metadata": {},
   "source": [
    "<br><br><br>\n",
    "#### 1c. $\\textbf{u} \\cdotp \\textbf{v}$,$\\textbf{v} \\cdotp \\textbf{w}$, $\\textbf{u} \\cdotp \\textbf{w}$<br>\n",
    "\n",
    "Manual Solution: \n",
    "\\begin{align}\n",
    "        \\textbf{u} \\cdotp \\textbf{v} &=\\begin{bmatrix}\n",
    "            1 \\\\\n",
    "            -2 \\\\\n",
    "            4\n",
    "        \\end{bmatrix} * \\begin{bmatrix}\n",
    "            3 \\\\\n",
    "            5 \\\\\n",
    "            1 \n",
    "        \\end{bmatrix} = \\begin{bmatrix}\n",
    "            3 \\\\\n",
    "            -10 \\\\\n",
    "            4 \n",
    "        \\end{bmatrix}\n",
    "\\end{align}\n",
    "<br>\n",
    "\\begin{align}\n",
    "        \\textbf{u} \\cdotp \\textbf{w} &=\\begin{bmatrix}\n",
    "            1 \\\\\n",
    "            -2 \\\\\n",
    "            4\n",
    "        \\end{bmatrix} * \\begin{bmatrix}\n",
    "            2 \\\\\n",
    "            1 \\\\\n",
    "            -3 \n",
    "        \\end{bmatrix} = \\begin{bmatrix}\n",
    "            2 \\\\\n",
    "            -2 \\\\\n",
    "            12\n",
    "        \\end{bmatrix}\n",
    "\\end{align}\n",
    "<br>\n",
    "\\begin{align}\n",
    "        \\textbf{v} \\cdotp \\textbf{w} &=\\begin{bmatrix}\n",
    "            3 \\\\\n",
    "            5 \\\\\n",
    "            1\n",
    "        \\end{bmatrix} * \\begin{bmatrix}\n",
    "            2 \\\\\n",
    "            1 \\\\\n",
    "            -3 \n",
    "        \\end{bmatrix} = \\begin{bmatrix}\n",
    "            6 \\\\\n",
    "            5 \\\\\n",
    "            -3\n",
    "        \\end{bmatrix}\n",
    "\\end{align}\n"
   ]
  },
  {
   "cell_type": "code",
   "execution_count": 29,
   "id": "95c6b106-ab44-4006-b9e9-15e28762966b",
   "metadata": {},
   "outputs": [
    {
     "name": "stdout",
     "output_type": "stream",
     "text": [
      "u*v = [  3 -10   4]\n",
      "u*w = [  2  -2 -12]\n",
      "v*w = [ 6  5 -3]\n"
     ]
    }
   ],
   "source": [
    "#python solution for c\n",
    "import numpy as np\n",
    "\n",
    "u = np.array([1, -2, 4])\n",
    "v = np.array([3, 5, 1])\n",
    "w = np.array([2, 1, -3])\n",
    "\n",
    "print(\"u*v = \" + str(u*v) )\n",
    "print(\"u*w = \" + str(u*w) )\n",
    "print(\"v*w = \" + str(v*w) )"
   ]
  },
  {
   "cell_type": "markdown",
   "id": "5835bc8e-87b4-4bf5-9517-dc535e179736",
   "metadata": {},
   "source": [
    "<br><br><br>\n",
    "#### 1d. ||$\\textbf{u}$||, ||$\\textbf{v}$||, ||$\\textbf{w}$||<br>\n",
    "\n",
    "Manual Solution: \n",
    "\\begin{align}\n",
    "    ||\\textbf{u}|| =\n",
    "    \\sqrt{\\textbf{u} \\cdotp \\textbf{u}} =\n",
    "    \\sqrt{(1)^2+(-2)^2+(4)^2} =\n",
    "    \\sqrt{1 + 4 + 16} =\n",
    "    \\sqrt{21}\n",
    "\\end{align}\n",
    "<br>\n",
    "\\begin{align}\n",
    "    ||\\textbf{v}|| = \n",
    "    \\sqrt{\\textbf{v} \\cdotp \\textbf{v}} = \n",
    "    \\sqrt{(3)^2+(5)^2+(1)^2} = \n",
    "    \\sqrt{9 + 25 + 1} = \n",
    "    \\sqrt{35}\n",
    "\\end{align}\n",
    "<br>\n",
    "\\begin{align}\n",
    "    ||\\textbf{w}|| = \n",
    "    \\sqrt{\\textbf{w} \\cdotp \\textbf{v}} = \n",
    "    \\sqrt{(2)^2+(1)^2+(-3)^2} = \n",
    "    \\sqrt{4 + 1 + 9} = \n",
    "    \\sqrt{14}\n",
    "\\end{align}\n",
    "\n",
    "\n"
   ]
  },
  {
   "cell_type": "code",
   "execution_count": 5,
   "id": "469c4b3d-b625-4ec6-b247-d4b06a3125e4",
   "metadata": {},
   "outputs": [
    {
     "name": "stdout",
     "output_type": "stream",
     "text": [
      "||u||:  4.58257569495584\n",
      "sqrt(21):  4.58257569495584\n",
      "||v||:  5.916079783099616\n",
      "sqrt(35):  5.916079783099616\n",
      "||w||:  3.7416573867739413\n",
      "sqrt(14):  3.7416573867739413\n"
     ]
    }
   ],
   "source": [
    "#python solution for d\n",
    "import numpy as np\n",
    "from numpy.linalg import norm\n",
    "\n",
    "u = np.array([1, -2, 4])\n",
    "v = np.array([3, 5, 1])\n",
    "w = np.array([2, 1, -3])\n",
    "\n",
    "\n",
    "print('||u||: ', np.sqrt(u.dot(u)))\n",
    "print('sqrt(21): ', np.sqrt(21))\n",
    "\n",
    "print('||v||: ', np.sqrt(v.dot(v)))\n",
    "print('sqrt(35): ', np.sqrt(35))\n",
    "\n",
    "print('||w||: ', np.sqrt(w.dot(w)))\n",
    "print('sqrt(14): ', np.sqrt(14))"
   ]
  },
  {
   "cell_type": "markdown",
   "id": "1c1ad97d-cdcc-488b-9da4-7be0029b7f81",
   "metadata": {},
   "source": [
    "<br><br><br>\n",
    "#### 1e. If $\\theta$ is the angle between $\\textbf{u}$  and   $\\textbf{v}$, find $\\cos{\\theta}$.<br>\n",
    "\n",
    "Manual Solution: \n",
    "\\begin{align}\n",
    "    \\cos{\\theta}=\\frac{\\textbf{u} \\cdotp \\textbf{v}}{||\\textbf{u}|| \\ ||\\textbf{v}||} = \n",
    "    \\frac{1(3)+(-2)(5)+4(1)}{\\sqrt{(1)^2+(-2)^2+(4)^2}\\sqrt{(3)^2+(5)^2+(1)^2}} = \n",
    "    \\frac{-3}{\\sqrt{21}\\sqrt{35}}\n",
    "\\end{align}\n",
    "\n",
    "\n",
    "\n"
   ]
  },
  {
   "cell_type": "code",
   "execution_count": 13,
   "id": "0fc26edf-b1ff-46e4-acf5-e648a90b0f0b",
   "metadata": {},
   "outputs": [
    {
     "name": "stdout",
     "output_type": "stream",
     "text": [
      "angle:  -0.11065666703449763\n",
      "angle:  -0.11065666703449763\n"
     ]
    }
   ],
   "source": [
    "#python solution for e\n",
    "import numpy as np\n",
    "from numpy.linalg import norm\n",
    "\n",
    "u = np.array([1, -2, 4])\n",
    "v = np.array([3, 5, 1])\n",
    "\n",
    "print('angle: ', np.dot(u,v)/(np.linalg.norm(u)*np.linalg.norm(v)))\n",
    "print(\"angle: \",-3/(np.sqrt(21)*np.sqrt(35)))"
   ]
  },
  {
   "cell_type": "markdown",
   "id": "7726c0bd-7f46-403e-9047-eeb33bb1480a",
   "metadata": {},
   "source": [
    "<br><br><br>\n",
    "#### 1f. If $\\alpha$ is the angle between $\\textbf{v}$  and   $\\textbf{w}$, find $\\cos{\\alpha}$.<br>\n",
    "\n",
    "Manual Solution: \n",
    "\\begin{align}\n",
    "    \\cos{\\theta}=\n",
    "    \\frac{\\textbf{v} \\cdotp \\textbf{w}}{||\\textbf{v}|| \\ ||\\textbf{w}||} = \n",
    "    \\frac{3(2)+5(1)+1(-3)}{\\sqrt{(3)^2+(5)^2+(1)^2}\\sqrt{(2)^2+(1)^2+(-3)^2}} = \n",
    "    \\frac{8}{\\sqrt{35}\\sqrt{14}}\n",
    "\\end{align}"
   ]
  },
  {
   "cell_type": "code",
   "execution_count": 12,
   "id": "3af82637-d9f7-48ea-8225-e169c2b1f817",
   "metadata": {},
   "outputs": [
    {
     "name": "stdout",
     "output_type": "stream",
     "text": [
      "angle:  0.36140316116210053\n",
      "angle:  0.36140316116210053\n"
     ]
    }
   ],
   "source": [
    "#python solution for f\n",
    "import numpy as np\n",
    "from numpy.linalg import norm\n",
    "\n",
    "v = np.array([3, 5, 1])\n",
    "w = np.array([2, 1, -3])\n",
    "\n",
    "print('angle: ', np.dot(v,w)/(np.linalg.norm(v)*np.linalg.norm(w)))\n",
    "print(\"angle: \",8/(np.sqrt(35)*np.sqrt(14)))"
   ]
  },
  {
   "cell_type": "markdown",
   "id": "13c88463-4b74-452a-a8b3-1f1afac5f04a",
   "metadata": {},
   "source": [
    "<br><br><br>\n",
    "#### 1g. If $\\beta$ is the angle between $\\textbf{u}$  and   $\\textbf{w}$, find $\\cos{\\beta}$.<br>\n",
    "\n",
    "\n",
    "Manual Solution: \n",
    "\\begin{align}\n",
    "    \\cos{\\theta}=\n",
    "    \\frac{\\textbf{v} \\cdotp \\textbf{w}}{||\\textbf{v}|| \\ ||\\textbf{w}||} = \n",
    "    \\frac{1(2)+(-2)(1)+4(-3)}{ \\sqrt{(1)^2+(-2)^2+(4)^2}\\sqrt{(2)^2+(1)^2+(-3)^2}} = \n",
    "    \\frac{-12}{\\sqrt{21}\\sqrt{14}}\n",
    "\\end{align}"
   ]
  },
  {
   "cell_type": "code",
   "execution_count": 15,
   "id": "d2196eda-f639-44a1-8372-a05e419e995d",
   "metadata": {},
   "outputs": [
    {
     "name": "stdout",
     "output_type": "stream",
     "text": [
      "angle:  -0.6998542122237653\n",
      "angle:  -0.6998542122237653\n"
     ]
    }
   ],
   "source": [
    "#python solution for g\n",
    "import numpy as np\n",
    "from numpy.linalg import norm\n",
    "\n",
    "u = np.array([1, -2, 4])\n",
    "w = np.array([2, 1, -3])\n",
    "\n",
    "print('angle: ', np.dot(u,w)/(np.linalg.norm(u)*np.linalg.norm(w)))\n",
    "print(\"angle: \",-12/(np.sqrt(21)*np.sqrt(14)))"
   ]
  },
  {
   "cell_type": "markdown",
   "id": "e2298531-81ae-40a5-8591-a68a94d16eaf",
   "metadata": {},
   "source": [
    "<br><br><br>\n",
    "#### 1h. Find $d(\\textbf{u},\\textbf{v})$.<br>\n",
    "\n",
    "\n",
    "Manual Solution: \n",
    "\\begin{align}\n",
    "        d(\\textbf{u},\\textbf{v}) = \n",
    "        ||\\textbf{u} - \\textbf{v}|| = \n",
    "        \\sqrt{(1-3)^2 + ((-2)-5)^2 + (4-1)^2} = \n",
    "        \\sqrt{4 + 49 + 9} = \n",
    "        \\sqrt{62}\n",
    "\\end{align}"
   ]
  },
  {
   "cell_type": "code",
   "execution_count": 22,
   "id": "6e3ab7b6-5778-4187-906c-b732cd4ce6aa",
   "metadata": {},
   "outputs": [
    {
     "name": "stdout",
     "output_type": "stream",
     "text": [
      "d(u,v):  7.874007874011811\n",
      "sqrt(62):  7.874007874011811\n"
     ]
    }
   ],
   "source": [
    "#python solution for h\n",
    "import numpy as np\n",
    "from numpy.linalg import norm\n",
    "\n",
    "u = np.array([1, -2, 4])\n",
    "v = np.array([3, 5, 1])\n",
    "w = np.array([2, 1, -3])\n",
    "\n",
    "print('d(u,v): ', np.linalg.norm(u - v))\n",
    "print(\"sqrt(62): \", np.sqrt(62))"
   ]
  },
  {
   "cell_type": "markdown",
   "id": "6d996311-3971-4c83-b23b-393c3be628d1",
   "metadata": {},
   "source": [
    "<br><br><br>\n",
    "#### 1i. Find $d(\\textbf{w},\\textbf{v})$.<br>\n",
    "\n",
    "\n",
    "Manual Solution: \n",
    "\\begin{align}\n",
    "        d(\\textbf{w},\\textbf{v}) = \n",
    "        ||\\textbf{w} - \\textbf{v}|| = \n",
    "        \\sqrt{(2-3)^2 + (1-5)^2 + ((-3)-1)^2} = \n",
    "        \\sqrt{1 + 16 + 16} = \n",
    "        \\sqrt{33}\n",
    "\\end{align}"
   ]
  },
  {
   "cell_type": "code",
   "execution_count": 20,
   "id": "f5f4e672-af69-4044-97a2-765caf199ee4",
   "metadata": {},
   "outputs": [
    {
     "name": "stdout",
     "output_type": "stream",
     "text": [
      "d(w,v):  5.744562646538029\n",
      "sqrt(33):  5.744562646538029\n"
     ]
    }
   ],
   "source": [
    "#python solution for i\n",
    "import numpy as np\n",
    "from numpy.linalg import norm\n",
    "\n",
    "u = np.array([1, -2, 4])\n",
    "v = np.array([3, 5, 1])\n",
    "w = np.array([2, 1, -3])\n",
    "\n",
    "print('d(w,v): ', np.linalg.norm(w - v))\n",
    "print(\"sqrt(33): \", np.sqrt(33))"
   ]
  },
  {
   "cell_type": "markdown",
   "id": "cd2e4352-d1dc-4903-9ece-509cef698a03",
   "metadata": {},
   "source": [
    "<br><br><br>\n",
    "#### 1j. Find $d(\\textbf{u},\\textbf{w})$. <br>\n",
    "\n",
    "\n",
    "Manual Solution: \n",
    "\\begin{align}\n",
    "        d(\\textbf{u},\\textbf{w}) = \n",
    "        ||\\textbf{u} - \\textbf{w}|| = \n",
    "        \\sqrt{(1-2)^2 + ((-2)-1)^2 + (4-(-3)^2} = \n",
    "        \\sqrt{1 + 9 + 49} = \n",
    "        \\sqrt{59}\n",
    "\\end{align}"
   ]
  },
  {
   "cell_type": "code",
   "execution_count": 1,
   "id": "4ce9ff32-56ec-44d1-9aba-11a3f6564800",
   "metadata": {},
   "outputs": [
    {
     "name": "stdout",
     "output_type": "stream",
     "text": [
      "d(w,v):  7.681145747868608\n",
      "sqrt(59):  7.681145747868608\n"
     ]
    }
   ],
   "source": [
    "#python solution for j\n",
    "import numpy as np\n",
    "from numpy.linalg import norm\n",
    "\n",
    "u = np.array([1, -2, 4])\n",
    "v = np.array([3, 5, 1])\n",
    "w = np.array([2, 1, -3])\n",
    "\n",
    "print('d(w,v): ', np.linalg.norm(u - w))\n",
    "print(\"sqrt(59): \", np.sqrt(59))"
   ]
  },
  {
   "cell_type": "markdown",
   "id": "5235ad8f-2e96-4aa1-8f6c-2eb807ea4425",
   "metadata": {},
   "source": [
    "<br><br><br>\n",
    "#### 1k. Find $proj(\\textbf{u},\\textbf{v})$.<br>\n",
    "\n",
    "\n",
    "Manual Solution: \n",
    "\\begin{align}\n",
    "    proj(\\textbf{u},\\textbf{v}) =\n",
    "    \\frac{\\textbf{u} \\cdotp \\textbf{v}}{||\\textbf{v}||^2} \\textbf{v} =\n",
    "    \\frac{-3}{(\\sqrt{35})^2}(3,5,1) =\n",
    "    \\frac{-3}{35}(3,5,1) =\n",
    "    (\\frac{-9}{35},\\frac{-15}{35},\\frac{-3}{35})\n",
    "\\end{align}"
   ]
  },
  {
   "cell_type": "code",
   "execution_count": 8,
   "id": "70aaddbc-5737-4a0a-bcd9-1bd309017447",
   "metadata": {},
   "outputs": [
    {
     "name": "stdout",
     "output_type": "stream",
     "text": [
      "proj(u,v):  [-0.25714286 -0.42857143 -0.08571429]\n",
      "proj(u,v):  [-0.2571428571428571, -0.42857142857142855, -0.08571428571428572]\n"
     ]
    }
   ],
   "source": [
    "#python solution for k\n",
    "import numpy as np\n",
    "from numpy.linalg import norm\n",
    "\n",
    "u = np.array([1, -2, 4])\n",
    "v = np.array([3, 5, 1])\n",
    "w = np.array([2, 1, -3])\n",
    "\n",
    "print(\"proj(u,v): \",u.dot(v)*v/(np.linalg.norm(v)**2) )\n",
    "print(\"proj(u,v): \",[-9/35,-15/35,-3/35])"
   ]
  },
  {
   "cell_type": "markdown",
   "id": "24a3caf3-b78e-435f-9b2c-cd3b6cf44c7b",
   "metadata": {},
   "source": [
    "<br><br><br>\n",
    "#### 1l. Find $proj(\\textbf{w},\\textbf{v})$.<br>\n",
    "\n",
    "\n",
    "\n",
    "Manual Solution: \n",
    "\\begin{align}\n",
    "    proj(\\textbf{w},\\textbf{v}) =\n",
    "    \\frac{\\textbf{w} \\cdotp \\textbf{v}}{||\\textbf{v}||^2} \\textbf{v} =\n",
    "    \\frac{8}{(\\sqrt{35})^2}(3,5,1) =\n",
    "    \\frac{8}{35}(3,5,1) =\n",
    "    (\\frac{24}{35},\\frac{40}{35},\\frac{8}{35})\n",
    "\\end{align}"
   ]
  },
  {
   "cell_type": "code",
   "execution_count": 16,
   "id": "b28a2b79-8f66-49f5-8abf-1640b2c1d175",
   "metadata": {},
   "outputs": [
    {
     "name": "stdout",
     "output_type": "stream",
     "text": [
      "proj(w,v):  [0.68571429 1.14285714 0.22857143]\n",
      "proj(w,v):  [0.6857142857142857, 1.1428571428571428, 0.22857142857142856]\n"
     ]
    }
   ],
   "source": [
    "#python solution for 1\n",
    "import numpy as np\n",
    "from numpy.linalg import norm\n",
    "\n",
    "u = np.array([1, -2, 4])\n",
    "v = np.array([3, 5, 1])\n",
    "w = np.array([2, 1, -3])\n",
    "\n",
    "print(\"proj(w,v): \",w.dot(v)*v/(np.linalg.norm(v)**2) )\n",
    "print(\"proj(w,v): \",[24/35,40/35,8/35])"
   ]
  },
  {
   "cell_type": "markdown",
   "id": "f0624dc6-da64-49e3-8910-36069aa90135",
   "metadata": {},
   "source": [
    "<br><br><br>\n",
    "#### 1m. Find $proj(\\textbf{u},\\textbf{w})$. <br> \n",
    "\n",
    "\n",
    "\n",
    "Manual Solution: \n",
    "\\begin{align}\n",
    "    proj(\\textbf{u},\\textbf{w}) =\n",
    "    \\frac{\\textbf{u} \\cdotp \\textbf{w}}{||\\textbf{w}||^2} \\textbf{w} =\n",
    "    \\frac{-12}{(\\sqrt{14})^2}(2,1,-3) =\n",
    "    \\frac{-6}{7}(2,1,-3) =\n",
    "    (\\frac{-12}{7},\\frac{-6}{7},\\frac{18}{7})\n",
    "\\end{align}"
   ]
  },
  {
   "cell_type": "code",
   "execution_count": 17,
   "id": "86554714-8e69-46ad-a196-483efbe99705",
   "metadata": {},
   "outputs": [
    {
     "name": "stdout",
     "output_type": "stream",
     "text": [
      "proj(w,v):  [-1.71428571 -0.85714286  2.57142857]\n",
      "proj(w,v):  [-1.7142857142857142, -0.8571428571428571, 2.5714285714285716]\n"
     ]
    }
   ],
   "source": [
    "#python solution for m\n",
    "import numpy as np\n",
    "from numpy.linalg import norm\n",
    "\n",
    "u = np.array([1, -2, 4])\n",
    "v = np.array([3, 5, 1])\n",
    "w = np.array([2, 1, -3])\n",
    "\n",
    "print(\"proj(w,v): \",u.dot(w)*w/(np.linalg.norm(w)**2) )\n",
    "print(\"proj(w,v): \",[-12/7,-6/7,18/7])"
   ]
  },
  {
   "cell_type": "code",
   "execution_count": null,
   "id": "344e9695-3f16-4b5a-b030-f0f94bd476d5",
   "metadata": {},
   "outputs": [],
   "source": []
  }
 ],
 "metadata": {
  "kernelspec": {
   "display_name": "Python 3 (ipykernel)",
   "language": "python",
   "name": "python3"
  },
  "language_info": {
   "codemirror_mode": {
    "name": "ipython",
    "version": 3
   },
   "file_extension": ".py",
   "mimetype": "text/x-python",
   "name": "python",
   "nbconvert_exporter": "python",
   "pygments_lexer": "ipython3",
   "version": "3.10.12"
  }
 },
 "nbformat": 4,
 "nbformat_minor": 5
}
