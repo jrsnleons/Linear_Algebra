{
 "cells": [
  {
   "cell_type": "markdown",
   "id": "fc797152-edfb-462c-8b4d-7cc2d5108aa7",
   "metadata": {},
   "source": [
    "# Intro_Vectors Assignment\n",
    "by Jerson Paul Leones"
   ]
  },
  {
   "cell_type": "markdown",
   "id": "0ec942c5-79a8-4083-8207-e5aec937387c",
   "metadata": {},
   "source": [
    "## 1. Let $\\textbf{u} = (1, -2, 4)$ and $\\textbf{v} = (3,5,1)$ $\\textbf{w} = (2,1,-3)$ find:<br>\n",
    "a. $3\\textbf{u}-2\\textbf{v}$<br> \n",
    "b. $5\\textbf{u}+3\\textbf{v}-4\\textbf{w}$<br>\n",
    "c. $\\textbf{u} \\cdotp \\textbf{v}$,$\\textbf{v} \\cdotp \\textbf{w}$, $\\textbf{u} \\cdotp \\textbf{w}$<br>\n",
    "d. ||$\\textbf{u}$||, ||$\\textbf{v}$||, ||$\\textbf{w}$||<br>\n",
    "e. If $\\theta$ is the angle between $\\textbf{u}$  and   $\\textbf{v}$, find $\\cos{\\theta}$.<br>\n",
    "f. If $\\alpha$ is the angle between $\\textbf{v}$  and   $\\textbf{w}$, find $\\cos{\\alpha}$.<br>\n",
    "g. If $\\beta$ is the angle between $\\textbf{u}$  and   $\\textbf{w}$, find $\\cos{\\beta}$.<br>\n",
    "h. Find $d(\\textbf{u},\\textbf{v})$.<br>\n",
    "i. Find $d(\\textbf{w},\\textbf{v})$.<br>\n",
    "j. Find $d(\\textbf{u},\\textbf{w})$. <br>\n",
    "k. Find $proj(\\textbf{u},\\textbf{v})$.<br>\n",
    "l. Find $proj(\\textbf{w},\\textbf{v})$.<br>\n",
    "m. Find $proj(\\textbf{u},\\textbf{w})$. <br>  \n",
    "<br>\n",
    "<br>"
   ]
  },
  {
   "cell_type": "markdown",
   "id": "59c67702-3002-4a90-83de-6c1893560e56",
   "metadata": {},
   "source": [
    "### a. $3\\textbf{u}-2\\textbf{v}$ \n",
    "<br>\n",
    "\n",
    "Manual Solution: \n",
    "\\begin{align}\n",
    "    3\\textbf{u}-2\\textbf{v} &= 3\\begin{bmatrix}\n",
    "           1 \\\\\n",
    "           -2 \\\\\n",
    "           4\n",
    "         \\end{bmatrix} - 2 \\begin{bmatrix}\n",
    "           3 \\\\\n",
    "           5 \\\\\n",
    "           1\n",
    "         \\end{bmatrix}= \\begin{bmatrix}\n",
    "           3 \\\\\n",
    "           -6 \\\\\n",
    "           12\n",
    "         \\end{bmatrix} + \\begin{bmatrix}\n",
    "           -6 \\\\\n",
    "           -25 \\\\\n",
    "           -2\n",
    "         \\end{bmatrix} = \\begin{bmatrix}\n",
    "           -3 \\\\\n",
    "           -16 \\\\\n",
    "           -10\n",
    "         \\end{bmatrix}\n",
    "    \\end{align}\n"
   ]
  },
  {
   "cell_type": "code",
   "execution_count": 14,
   "id": "e20e9d45-389c-4f41-9eb7-fb629cdd62b6",
   "metadata": {},
   "outputs": [
    {
     "name": "stdout",
     "output_type": "stream",
     "text": [
      "[ -3 -16  10]\n"
     ]
    }
   ],
   "source": [
    "#python solution for a\n",
    "import numpy as np\n",
    "\n",
    "u = np.array([1, -2, 4])\n",
    "v = np.array([3, 5, 1])\n",
    "\n",
    "print((3*u) - (2*v))"
   ]
  },
  {
   "cell_type": "markdown",
   "id": "c51f3d0a-feec-44d9-afe9-11095e5e4fe8",
   "metadata": {},
   "source": [
    "<br><br><br>\n",
    "### b. $5\\textbf{u}+3\\textbf{v}-4\\textbf{w}$ <br>\n",
    "\n",
    "Manual Solution: \n",
    "\\begin{align}\n",
    "        5\\textbf{u}+3\\textbf{v}-4\\textbf{w} \n",
    "\\end{align}\n",
    "<br>\n",
    "\\begin{align}\n",
    "    &= 5\\begin{bmatrix}\n",
    "           1 \\\\\n",
    "           -2 \\\\\n",
    "           4\n",
    "         \\end{bmatrix} + 3 \\begin{bmatrix}\n",
    "           3 \\\\\n",
    "           5 \\\\\n",
    "           1\n",
    "         \\end{bmatrix}- 4 \\begin{bmatrix}\n",
    "           2 \\\\\n",
    "           1 \\\\\n",
    "           -3\n",
    "         \\end{bmatrix}\n",
    "    \\end{align}\n",
    "<br>\n",
    "\\begin{align}\n",
    "   &= \\begin{bmatrix}\n",
    "        5 \\\\\n",
    "        -10 \\\\\n",
    "        20\n",
    "      \\end{bmatrix} + \\begin{bmatrix}\n",
    "        9 \\\\\n",
    "        15 \\\\\n",
    "        3\n",
    "      \\end{bmatrix} + \\begin{bmatrix}\n",
    "        -8 \\\\\n",
    "        -4 \\\\\n",
    "        12\n",
    "      \\end{bmatrix}\n",
    "    \\end{align}\n",
    "<br>\n",
    "\n",
    "\\begin{align}\n",
    "    &= \\begin{bmatrix}\n",
    "        6 \\\\\n",
    "        1 \\\\\n",
    "        35\n",
    "    \\end{bmatrix}\n",
    "\\end{align}\n",
    "      "
   ]
  },
  {
   "cell_type": "code",
   "execution_count": 13,
   "id": "6bdca3b2-8c40-42ed-b55b-57efdcb2a158",
   "metadata": {},
   "outputs": [
    {
     "name": "stdout",
     "output_type": "stream",
     "text": [
      "[ 6  1 35]\n"
     ]
    }
   ],
   "source": [
    "#python solution for b\n",
    "import numpy as np\n",
    "\n",
    "u = np.array([1, -2, 4])\n",
    "v = np.array([3, 5, 1])\n",
    "w = np.array([2, 1, -3])\n",
    "\n",
    "print((5*u) + (3*v) - (4*w))"
   ]
  },
  {
   "cell_type": "markdown",
   "id": "ee9d0996-73a6-4127-b481-068787da3669",
   "metadata": {},
   "source": [
    "<br><br><br>\n",
    "### c. $\\textbf{u} \\cdotp \\textbf{v}$,$\\textbf{v} \\cdotp \\textbf{w}$, $\\textbf{u} \\cdotp \\textbf{w}$<br>\n",
    "\n",
    "Manual Solution: \n",
    "\\begin{align}\n",
    "        \\textbf{u} \\cdotp \\textbf{v} &=\\begin{bmatrix}\n",
    "            1 \\\\\n",
    "            -2 \\\\\n",
    "            4\n",
    "        \\end{bmatrix} * \\begin{bmatrix}\n",
    "            3 \\\\\n",
    "            5 \\\\\n",
    "            1 \n",
    "        \\end{bmatrix} = \\begin{bmatrix}\n",
    "            3 \\\\\n",
    "            -10 \\\\\n",
    "            4 \n",
    "        \\end{bmatrix}\n",
    "\\end{align}\n",
    "<br>\n",
    "\\begin{align}\n",
    "        \\textbf{u} \\cdotp \\textbf{w} &=\\begin{bmatrix}\n",
    "            1 \\\\\n",
    "            -2 \\\\\n",
    "            4\n",
    "        \\end{bmatrix} * \\begin{bmatrix}\n",
    "            2 \\\\\n",
    "            1 \\\\\n",
    "            -3 \n",
    "        \\end{bmatrix} = \\begin{bmatrix}\n",
    "            2 \\\\\n",
    "            -2 \\\\\n",
    "            12\n",
    "        \\end{bmatrix}\n",
    "\\end{align}\n",
    "<br>\n",
    "\\begin{align}\n",
    "        \\textbf{v} \\cdotp \\textbf{w} &=\\begin{bmatrix}\n",
    "            3 \\\\\n",
    "            5 \\\\\n",
    "            1\n",
    "        \\end{bmatrix} * \\begin{bmatrix}\n",
    "            2 \\\\\n",
    "            1 \\\\\n",
    "            -3 \n",
    "        \\end{bmatrix} = \\begin{bmatrix}\n",
    "            6 \\\\\n",
    "            5 \\\\\n",
    "            -3\n",
    "        \\end{bmatrix}\n",
    "\\end{align}\n"
   ]
  },
  {
   "cell_type": "code",
   "execution_count": 29,
   "id": "95c6b106-ab44-4006-b9e9-15e28762966b",
   "metadata": {},
   "outputs": [
    {
     "name": "stdout",
     "output_type": "stream",
     "text": [
      "u*v = [  3 -10   4]\n",
      "u*w = [  2  -2 -12]\n",
      "v*w = [ 6  5 -3]\n"
     ]
    }
   ],
   "source": [
    "#python solution for c\n",
    "import numpy as np\n",
    "\n",
    "u = np.array([1, -2, 4])\n",
    "v = np.array([3, 5, 1])\n",
    "w = np.array([2, 1, -3])\n",
    "\n",
    "print(\"u*v = \" + str(u*v) )\n",
    "print(\"u*w = \" + str(u*w) )\n",
    "print(\"v*w = \" + str(v*w) )"
   ]
  },
  {
   "cell_type": "markdown",
   "id": "5835bc8e-87b4-4bf5-9517-dc535e179736",
   "metadata": {},
   "source": [
    "<br><br><br>\n",
    "### d. ||$\\textbf{u}$||, ||$\\textbf{v}$||, ||$\\textbf{w}$||<br>\n",
    "\n",
    "Manual Solution: \n",
    "\\begin{align}\n",
    "    ||\\textbf{u}|| =\n",
    "    \\sqrt{\\textbf{u} \\cdotp \\textbf{u}} =\n",
    "    \\sqrt{(1)^2+(-2)^2+(4)^2} =\n",
    "    \\sqrt{1 + 4 + 16} =\n",
    "    \\sqrt{21}\n",
    "\\end{align}\n",
    "<br>\n",
    "\\begin{align}\n",
    "    ||\\textbf{v}|| = \n",
    "    \\sqrt{\\textbf{v} \\cdotp \\textbf{v}} = \n",
    "    \\sqrt{(3)^2+(5)^2+(1)^2} = \n",
    "    \\sqrt{9 + 25 + 1} = \n",
    "    \\sqrt{35}\n",
    "\\end{align}\n",
    "<br>\n",
    "\\begin{align}\n",
    "    ||\\textbf{w}|| = \n",
    "    \\sqrt{\\textbf{w} \\cdotp \\textbf{v}} = \n",
    "    \\sqrt{(2)^2+(1)^2+(-3)^2} = \n",
    "    \\sqrt{4 + 1 + 9} = \n",
    "    \\sqrt{14}\n",
    "\\end{align}\n",
    "\n",
    "\n"
   ]
  },
  {
   "cell_type": "code",
   "execution_count": 5,
   "id": "469c4b3d-b625-4ec6-b247-d4b06a3125e4",
   "metadata": {},
   "outputs": [
    {
     "name": "stdout",
     "output_type": "stream",
     "text": [
      "||u||:  4.58257569495584\n",
      "sqrt(21):  4.58257569495584\n",
      "||v||:  5.916079783099616\n",
      "sqrt(35):  5.916079783099616\n",
      "||w||:  3.7416573867739413\n",
      "sqrt(14):  3.7416573867739413\n"
     ]
    }
   ],
   "source": [
    "#python solution for d\n",
    "import numpy as np\n",
    "from numpy.linalg import norm\n",
    "\n",
    "u = np.array([1, -2, 4])\n",
    "v = np.array([3, 5, 1])\n",
    "w = np.array([2, 1, -3])\n",
    "\n",
    "\n",
    "print('||u||: ', np.sqrt(u.dot(u)))\n",
    "print('sqrt(21): ', np.sqrt(21))\n",
    "\n",
    "print('||v||: ', np.sqrt(v.dot(v)))\n",
    "print('sqrt(35): ', np.sqrt(35))\n",
    "\n",
    "print('||w||: ', np.sqrt(w.dot(w)))\n",
    "print('sqrt(14): ', np.sqrt(14))"
   ]
  },
  {
   "cell_type": "markdown",
   "id": "1c1ad97d-cdcc-488b-9da4-7be0029b7f81",
   "metadata": {},
   "source": [
    "<br><br><br>\n",
    "### e. If $\\theta$ is the angle between $\\textbf{u}$  and   $\\textbf{v}$, find $\\cos{\\theta}$.<br>\n",
    "\n",
    "Manual Solution: \n",
    "\\begin{align}\n",
    "    \\cos{\\theta}=\\frac{\\textbf{u} \\cdotp \\textbf{v}}{||\\textbf{u}|| \\ ||\\textbf{v}||} = \n",
    "    \\frac{1(3)+(-2)(5)+4(1)}{\\sqrt{(1)^2+(-2)^2+(4)^2}\\sqrt{(3)^2+(5)^2+(1)^2}} = \n",
    "    \\frac{-3}{\\sqrt{21}\\sqrt{35}}\n",
    "\\end{align}\n",
    "\n",
    "\n",
    "\n"
   ]
  },
  {
   "cell_type": "code",
   "execution_count": 13,
   "id": "0fc26edf-b1ff-46e4-acf5-e648a90b0f0b",
   "metadata": {},
   "outputs": [
    {
     "name": "stdout",
     "output_type": "stream",
     "text": [
      "angle:  -0.11065666703449763\n",
      "angle:  -0.11065666703449763\n"
     ]
    }
   ],
   "source": [
    "#python solution for e\n",
    "import numpy as np\n",
    "from numpy.linalg import norm\n",
    "\n",
    "u = np.array([1, -2, 4])\n",
    "v = np.array([3, 5, 1])\n",
    "\n",
    "print('angle: ', np.dot(u,v)/(np.linalg.norm(u)*np.linalg.norm(v)))\n",
    "print(\"angle: \",-3/(np.sqrt(21)*np.sqrt(35)))"
   ]
  },
  {
   "cell_type": "markdown",
   "id": "7726c0bd-7f46-403e-9047-eeb33bb1480a",
   "metadata": {},
   "source": [
    "<br><br><br>\n",
    "### f. If $\\alpha$ is the angle between $\\textbf{v}$  and   $\\textbf{w}$, find $\\cos{\\alpha}$.<br>\n",
    "\n",
    "Manual Solution: \n",
    "\\begin{align}\n",
    "    \\cos{\\theta}=\n",
    "    \\frac{\\textbf{v} \\cdotp \\textbf{w}}{||\\textbf{v}|| \\ ||\\textbf{w}||} = \n",
    "    \\frac{3(2)+5(1)+1(-3)}{\\sqrt{(3)^2+(5)^2+(1)^2}\\sqrt{(2)^2+(1)^2+(-3)^2}} = \n",
    "    \\frac{8}{\\sqrt{35}\\sqrt{14}}\n",
    "\\end{align}"
   ]
  },
  {
   "cell_type": "code",
   "execution_count": 12,
   "id": "3af82637-d9f7-48ea-8225-e169c2b1f817",
   "metadata": {},
   "outputs": [
    {
     "name": "stdout",
     "output_type": "stream",
     "text": [
      "angle:  0.36140316116210053\n",
      "angle:  0.36140316116210053\n"
     ]
    }
   ],
   "source": [
    "#python solution for f\n",
    "import numpy as np\n",
    "from numpy.linalg import norm\n",
    "\n",
    "v = np.array([3, 5, 1])\n",
    "w = np.array([2, 1, -3])\n",
    "\n",
    "print('angle: ', np.dot(v,w)/(np.linalg.norm(v)*np.linalg.norm(w)))\n",
    "print(\"angle: \",8/(np.sqrt(35)*np.sqrt(14)))"
   ]
  },
  {
   "cell_type": "markdown",
   "id": "13c88463-4b74-452a-a8b3-1f1afac5f04a",
   "metadata": {},
   "source": [
    "<br><br><br>\n",
    "### g. If $\\beta$ is the angle between $\\textbf{u}$  and   $\\textbf{w}$, find $\\cos{\\beta}$.<br>\n",
    "\n",
    "\n",
    "Manual Solution: \n",
    "\\begin{align}\n",
    "    \\cos{\\theta}=\n",
    "    \\frac{\\textbf{u} \\cdotp \\textbf{w}}{||\\textbf{u}|| \\ ||\\textbf{w}||} = \n",
    "    \\frac{1(2)+(-2)(1)+4(-3)}{ \\sqrt{(1)^2+(-2)^2+(4)^2}\\sqrt{(2)^2+(1)^2+(-3)^2}} = \n",
    "    \\frac{-12}{\\sqrt{21}\\sqrt{14}}\n",
    "\\end{align}"
   ]
  },
  {
   "cell_type": "code",
   "execution_count": 15,
   "id": "d2196eda-f639-44a1-8372-a05e419e995d",
   "metadata": {},
   "outputs": [
    {
     "name": "stdout",
     "output_type": "stream",
     "text": [
      "angle:  -0.6998542122237653\n",
      "angle:  -0.6998542122237653\n"
     ]
    }
   ],
   "source": [
    "#python solution for g\n",
    "import numpy as np\n",
    "from numpy.linalg import norm\n",
    "\n",
    "u = np.array([1, -2, 4])\n",
    "w = np.array([2, 1, -3])\n",
    "\n",
    "print('angle: ', np.dot(u,w)/(np.linalg.norm(u)*np.linalg.norm(w)))\n",
    "print(\"angle: \",-12/(np.sqrt(21)*np.sqrt(14)))"
   ]
  },
  {
   "cell_type": "markdown",
   "id": "e2298531-81ae-40a5-8591-a68a94d16eaf",
   "metadata": {},
   "source": [
    "<br><br><br>\n",
    "### h. Find $d(\\textbf{u},\\textbf{v})$.<br>\n",
    "\n",
    "\n",
    "Manual Solution: \n",
    "\\begin{align}\n",
    "        d(\\textbf{u},\\textbf{v}) = \n",
    "        ||\\textbf{u} - \\textbf{v}|| = \n",
    "        \\sqrt{(1-3)^2 + ((-2)-5)^2 + (4-1)^2} = \n",
    "        \\sqrt{4 + 49 + 9} = \n",
    "        \\sqrt{62}\n",
    "\\end{align}"
   ]
  },
  {
   "cell_type": "code",
   "execution_count": 22,
   "id": "6e3ab7b6-5778-4187-906c-b732cd4ce6aa",
   "metadata": {},
   "outputs": [
    {
     "name": "stdout",
     "output_type": "stream",
     "text": [
      "d(u,v):  7.874007874011811\n",
      "sqrt(62):  7.874007874011811\n"
     ]
    }
   ],
   "source": [
    "#python solution for h\n",
    "import numpy as np\n",
    "from numpy.linalg import norm\n",
    "\n",
    "u = np.array([1, -2, 4])\n",
    "v = np.array([3, 5, 1])\n",
    "w = np.array([2, 1, -3])\n",
    "\n",
    "print('d(u,v): ', np.linalg.norm(u - v))\n",
    "print(\"sqrt(62): \", np.sqrt(62))"
   ]
  },
  {
   "cell_type": "markdown",
   "id": "6d996311-3971-4c83-b23b-393c3be628d1",
   "metadata": {},
   "source": [
    "<br><br><br>\n",
    "### i. Find $d(\\textbf{w},\\textbf{v})$.<br>\n",
    "\n",
    "\n",
    "Manual Solution: \n",
    "\\begin{align}\n",
    "        d(\\textbf{w},\\textbf{v}) = \n",
    "        ||\\textbf{w} - \\textbf{v}|| = \n",
    "        \\sqrt{(2-3)^2 + (1-5)^2 + ((-3)-1)^2} = \n",
    "        \\sqrt{1 + 16 + 16} = \n",
    "        \\sqrt{33}\n",
    "\\end{align}"
   ]
  },
  {
   "cell_type": "code",
   "execution_count": 20,
   "id": "f5f4e672-af69-4044-97a2-765caf199ee4",
   "metadata": {},
   "outputs": [
    {
     "name": "stdout",
     "output_type": "stream",
     "text": [
      "d(w,v):  5.744562646538029\n",
      "sqrt(33):  5.744562646538029\n"
     ]
    }
   ],
   "source": [
    "#python solution for i\n",
    "import numpy as np\n",
    "from numpy.linalg import norm\n",
    "\n",
    "u = np.array([1, -2, 4])\n",
    "v = np.array([3, 5, 1])\n",
    "w = np.array([2, 1, -3])\n",
    "\n",
    "print('d(w,v): ', np.linalg.norm(w - v))\n",
    "print(\"sqrt(33): \", np.sqrt(33))"
   ]
  },
  {
   "cell_type": "markdown",
   "id": "cd2e4352-d1dc-4903-9ece-509cef698a03",
   "metadata": {},
   "source": [
    "<br><br><br>\n",
    "### j. Find $d(\\textbf{u},\\textbf{w})$. <br>\n",
    "\n",
    "\n",
    "Manual Solution: \n",
    "\\begin{align}\n",
    "        d(\\textbf{u},\\textbf{w}) = \n",
    "        ||\\textbf{u} - \\textbf{w}|| = \n",
    "        \\sqrt{(1-2)^2 + ((-2)-1)^2 + (4-(-3)^2} = \n",
    "        \\sqrt{1 + 9 + 49} = \n",
    "        \\sqrt{59}\n",
    "\\end{align}"
   ]
  },
  {
   "cell_type": "code",
   "execution_count": 1,
   "id": "4ce9ff32-56ec-44d1-9aba-11a3f6564800",
   "metadata": {},
   "outputs": [
    {
     "name": "stdout",
     "output_type": "stream",
     "text": [
      "d(w,v):  7.681145747868608\n",
      "sqrt(59):  7.681145747868608\n"
     ]
    }
   ],
   "source": [
    "#python solution for j\n",
    "import numpy as np\n",
    "from numpy.linalg import norm\n",
    "\n",
    "u = np.array([1, -2, 4])\n",
    "v = np.array([3, 5, 1])\n",
    "w = np.array([2, 1, -3])\n",
    "\n",
    "print('d(w,v): ', np.linalg.norm(u - w))\n",
    "print(\"sqrt(59): \", np.sqrt(59))"
   ]
  },
  {
   "cell_type": "markdown",
   "id": "5235ad8f-2e96-4aa1-8f6c-2eb807ea4425",
   "metadata": {},
   "source": [
    "<br><br><br>\n",
    "### k. Find $proj(\\textbf{u},\\textbf{v})$.<br>\n",
    "\n",
    "\n",
    "Manual Solution: \n",
    "\\begin{align}\n",
    "    proj(\\textbf{u},\\textbf{v}) =\n",
    "    \\frac{\\textbf{u} \\cdotp \\textbf{v}}{||\\textbf{v}||^2} \\textbf{v} =\n",
    "    \\frac{-3}{(\\sqrt{35})^2}(3,5,1) =\n",
    "    \\frac{-3}{35}(3,5,1) =\n",
    "    (\\frac{-9}{35},\\frac{-15}{35},\\frac{-3}{35})\n",
    "\\end{align}"
   ]
  },
  {
   "cell_type": "code",
   "execution_count": 8,
   "id": "70aaddbc-5737-4a0a-bcd9-1bd309017447",
   "metadata": {},
   "outputs": [
    {
     "name": "stdout",
     "output_type": "stream",
     "text": [
      "proj(u,v):  [-0.25714286 -0.42857143 -0.08571429]\n",
      "proj(u,v):  [-0.2571428571428571, -0.42857142857142855, -0.08571428571428572]\n"
     ]
    }
   ],
   "source": [
    "#python solution for k\n",
    "import numpy as np\n",
    "from numpy.linalg import norm\n",
    "\n",
    "u = np.array([1, -2, 4])\n",
    "v = np.array([3, 5, 1])\n",
    "w = np.array([2, 1, -3])\n",
    "\n",
    "print(\"proj(u,v): \",u.dot(v)*v/(np.linalg.norm(v)**2) )\n",
    "print(\"proj(u,v): \",[-9/35,-15/35,-3/35])"
   ]
  },
  {
   "cell_type": "markdown",
   "id": "24a3caf3-b78e-435f-9b2c-cd3b6cf44c7b",
   "metadata": {},
   "source": [
    "<br><br><br>\n",
    "### l. Find $proj(\\textbf{w},\\textbf{v})$.<br>\n",
    "\n",
    "\n",
    "\n",
    "Manual Solution: \n",
    "\\begin{align}\n",
    "    proj(\\textbf{w},\\textbf{v}) =\n",
    "    \\frac{\\textbf{w} \\cdotp \\textbf{v}}{||\\textbf{v}||^2} \\textbf{v} =\n",
    "    \\frac{8}{(\\sqrt{35})^2}(3,5,1) =\n",
    "    \\frac{8}{35}(3,5,1) =\n",
    "    (\\frac{24}{35},\\frac{40}{35},\\frac{8}{35})\n",
    "\\end{align}"
   ]
  },
  {
   "cell_type": "code",
   "execution_count": 16,
   "id": "b28a2b79-8f66-49f5-8abf-1640b2c1d175",
   "metadata": {},
   "outputs": [
    {
     "name": "stdout",
     "output_type": "stream",
     "text": [
      "proj(w,v):  [0.68571429 1.14285714 0.22857143]\n",
      "proj(w,v):  [0.6857142857142857, 1.1428571428571428, 0.22857142857142856]\n"
     ]
    }
   ],
   "source": [
    "#python solution for 1\n",
    "import numpy as np\n",
    "from numpy.linalg import norm\n",
    "\n",
    "u = np.array([1, -2, 4])\n",
    "v = np.array([3, 5, 1])\n",
    "w = np.array([2, 1, -3])\n",
    "\n",
    "print(\"proj(w,v): \",w.dot(v)*v/(np.linalg.norm(v)**2) )\n",
    "print(\"proj(w,v): \",[24/35,40/35,8/35])"
   ]
  },
  {
   "cell_type": "markdown",
   "id": "f0624dc6-da64-49e3-8910-36069aa90135",
   "metadata": {},
   "source": [
    "<br><br><br>\n",
    "### m. Find $proj(\\textbf{u},\\textbf{w})$. <br> \n",
    "\n",
    "\n",
    "\n",
    "Manual Solution: \n",
    "\\begin{align}\n",
    "    proj(\\textbf{u},\\textbf{w}) =\n",
    "    \\frac{\\textbf{u} \\cdotp \\textbf{w}}{||\\textbf{w}||^2} \\textbf{w} =\n",
    "    \\frac{-12}{(\\sqrt{14})^2}(2,1,-3) =\n",
    "    \\frac{-6}{7}(2,1,-3) =\n",
    "    (\\frac{-12}{7},\\frac{-6}{7},\\frac{18}{7})\n",
    "\\end{align}"
   ]
  },
  {
   "cell_type": "code",
   "execution_count": 17,
   "id": "86554714-8e69-46ad-a196-483efbe99705",
   "metadata": {},
   "outputs": [
    {
     "name": "stdout",
     "output_type": "stream",
     "text": [
      "proj(w,v):  [-1.71428571 -0.85714286  2.57142857]\n",
      "proj(w,v):  [-1.7142857142857142, -0.8571428571428571, 2.5714285714285716]\n"
     ]
    }
   ],
   "source": [
    "#python solution for m\n",
    "import numpy as np\n",
    "from numpy.linalg import norm\n",
    "\n",
    "u = np.array([1, -2, 4])\n",
    "v = np.array([3, 5, 1])\n",
    "w = np.array([2, 1, -3])\n",
    "\n",
    "print(\"proj(w,v): \",u.dot(w)*w/(np.linalg.norm(w)**2) )\n",
    "print(\"proj(w,v): \",[-12/7,-6/7,18/7])"
   ]
  },
  {
   "cell_type": "markdown",
   "id": "7f6afb4b-0300-4729-b298-70c037db0810",
   "metadata": {},
   "source": [
    "<br>\n",
    "<br>\n",
    "<br>"
   ]
  },
  {
   "cell_type": "markdown",
   "id": "40ff4360-841a-496a-86f3-1828dd8148dd",
   "metadata": {},
   "source": [
    "## 2. Repeat problem 1 with the following column vectors:\n",
    "\\begin{align}\n",
    "    \\textbf{u} &= \\begin{bmatrix}\n",
    "           1 \\\\\n",
    "           3 \\\\\n",
    "           -4\n",
    "         \\end{bmatrix}, \\textbf{v} = \\begin{bmatrix}\n",
    "           2 \\\\\n",
    "           1 \\\\\n",
    "           5\n",
    "         \\end{bmatrix}, \\textbf{w} = \\begin{bmatrix}\n",
    "           3 \\\\\n",
    "           -2 \\\\\n",
    "           6\n",
    "         \\end{bmatrix}\n",
    "  \\end{align}\n",
    "\n",
    "a. $3\\textbf{u}-2\\textbf{v}$<br>\n",
    "b. $5\\textbf{u}+3\\textbf{v}-4\\textbf{w}$<br>\n",
    "c. $\\textbf{u} \\cdotp \\textbf{v}$,$\\textbf{v} \\cdotp \\textbf{w}$, $\\textbf{u} \\cdotp \\textbf{w}$<br>\n",
    "d. ||$\\textbf{u}||, ||$\\textbf{v}||, ||$\\textbf{w}$||<br>\n",
    "e. If $\\theta$ is the angle between $\\textbf{u}$  and   $\\textbf{v}$, find $\\cos{\\theta}$.<br>\n",
    "f. If $\\alpha$ is the angle between $\\textbf{v}$  and   $\\textbf{w}$, find $\\cos{\\alpha}$.<br>\n",
    "g. If $\\beta$ is the angle between $\\textbf{u}$  and   $\\textbf{w}$, find $\\cos{\\beta}$.<br>\n",
    "h. Find $d(\\textbf{u},\\textbf{v})$.<br>\n",
    "i. Find $d(\\textbf{w},\\textbf{v})$.<br>\n",
    "j. Find $d(\\textbf{u},\\textbf{w})$. <br>\n",
    "k. Find $proj(\\textbf{u},\\textbf{v})$.<br>\n",
    "l. Find $proj(\\textbf{w},\\textbf{v})$.<br>\n",
    "m. Find $proj(\\textbf{u},\\textbf{w})$. <br>  "
   ]
  },
  {
   "cell_type": "markdown",
   "id": "af5d9d8f-3a25-4305-b0d5-d5eb8f567cb7",
   "metadata": {},
   "source": [
    "### a. $3\\textbf{u}-2\\textbf{v}$\n",
    "Manual Solution: \n",
    "\\begin{align}\n",
    "    3\\textbf{u}-2\\textbf{v} &= 3\\begin{bmatrix}\n",
    "           1 \\\\\n",
    "           3 \\\\\n",
    "           -4\n",
    "         \\end{bmatrix} - 2 \\begin{bmatrix}\n",
    "           2 \\\\\n",
    "           1 \\\\\n",
    "           5\n",
    "         \\end{bmatrix}= \\begin{bmatrix}\n",
    "           3 \\\\\n",
    "           9 \\\\\n",
    "           -12\n",
    "         \\end{bmatrix} + \\begin{bmatrix}\n",
    "           -4 \\\\\n",
    "           -2 \\\\\n",
    "           -10\n",
    "         \\end{bmatrix} = \\begin{bmatrix}\n",
    "           -1 \\\\\n",
    "           7 \\\\\n",
    "           -22\n",
    "         \\end{bmatrix}\n",
    "    \\end{align}\n"
   ]
  },
  {
   "cell_type": "code",
   "execution_count": 75,
   "id": "2154f972-b134-4aab-9c44-ed8cfdbe3160",
   "metadata": {},
   "outputs": [
    {
     "name": "stdout",
     "output_type": "stream",
     "text": [
      "[ -1   7 -22]\n"
     ]
    }
   ],
   "source": [
    "#python solution for a\n",
    "import numpy as np\n",
    "\n",
    "u = np.array([1, 3, -4])\n",
    "v = np.array([2, 1, 5])\n",
    "\n",
    "print((3*u) - (2*v))"
   ]
  },
  {
   "cell_type": "markdown",
   "id": "1128e5c7-ce45-4a62-9e5c-3dad56266f2e",
   "metadata": {},
   "source": [
    "<br><br><br>\n",
    "### b. $5\\textbf{u}+3\\textbf{v}-4\\textbf{w}$ <br>\n",
    "\n",
    "Manual Solution: \n",
    "<br>\n",
    "\\begin{align}\n",
    "    &= 5\\begin{bmatrix}\n",
    "           1 \\\\\n",
    "           3 \\\\\n",
    "           -4\n",
    "         \\end{bmatrix} + 3 \\begin{bmatrix}\n",
    "           2 \\\\\n",
    "           1 \\\\\n",
    "           5\n",
    "         \\end{bmatrix}- 4 \\begin{bmatrix}\n",
    "           3 \\\\\n",
    "           -2 \\\\\n",
    "           6\n",
    "         \\end{bmatrix}\n",
    "    \\end{align}\n",
    "<br>\n",
    "\\begin{align}\n",
    "   &= \\begin{bmatrix}\n",
    "        5 \\\\\n",
    "        15 \\\\\n",
    "        -20\n",
    "      \\end{bmatrix} + \\begin{bmatrix}\n",
    "        6 \\\\\n",
    "        3 \\\\\n",
    "        15\n",
    "      \\end{bmatrix} + \\begin{bmatrix}\n",
    "        -12 \\\\\n",
    "        8 \\\\\n",
    "        -24\n",
    "      \\end{bmatrix}\n",
    "    \\end{align}\n",
    "<br>\n",
    "\n",
    "\\begin{align}\n",
    "    &= \\begin{bmatrix}\n",
    "        -1 \\\\\n",
    "        26 \\\\\n",
    "        -29\n",
    "    \\end{bmatrix}\n",
    "\\end{align}\n",
    "      "
   ]
  },
  {
   "cell_type": "code",
   "execution_count": 2,
   "id": "3c0de8d9-dc34-4238-bbd5-7929c0d60b1f",
   "metadata": {},
   "outputs": [
    {
     "name": "stdout",
     "output_type": "stream",
     "text": [
      "[ -1  26 -29]\n"
     ]
    }
   ],
   "source": [
    "#python solution for b\n",
    "import numpy as np\n",
    "\n",
    "u = np.array([1, 3, -4])\n",
    "v = np.array([2, 1, 5])\n",
    "w = np.array([3, -2, 6])\n",
    "\n",
    "print((5*u) + (3*v) - (4*w))"
   ]
  },
  {
   "cell_type": "markdown",
   "id": "5d0a1c25-336f-4cf0-8e40-a5efe1dacce3",
   "metadata": {},
   "source": [
    "<br><br><br>\n",
    "### c. $\\textbf{u} \\cdotp \\textbf{v}$,$\\textbf{v} \\cdotp \\textbf{w}$, $\\textbf{u} \\cdotp \\textbf{w}$<br>\n",
    "\n",
    "Manual Solution: \n",
    "\\begin{align}\n",
    "        \\textbf{u} \\cdotp \\textbf{v} &=\\begin{bmatrix}\n",
    "            1 \\\\\n",
    "            3 \\\\\n",
    "            -4\n",
    "        \\end{bmatrix} * \\begin{bmatrix}\n",
    "            2 \\\\\n",
    "            1 \\\\\n",
    "            5\n",
    "        \\end{bmatrix} = \\begin{bmatrix}\n",
    "            2 \\\\\n",
    "            3 \\\\\n",
    "            -20 \n",
    "        \\end{bmatrix}\n",
    "\\end{align}\n",
    "<br>\n",
    "\\begin{align}\n",
    "        \\textbf{u} \\cdotp \\textbf{w} &=\\begin{bmatrix}\n",
    "            1 \\\\\n",
    "            3 \\\\\n",
    "            -4\n",
    "        \\end{bmatrix} * \\begin{bmatrix}\n",
    "            3 \\\\\n",
    "            -2 \\\\\n",
    "            6 \n",
    "        \\end{bmatrix} = \\begin{bmatrix}\n",
    "            3 \\\\\n",
    "            -6 \\\\\n",
    "            -24\n",
    "        \\end{bmatrix}\n",
    "\\end{align}\n",
    "<br>\n",
    "\\begin{align}\n",
    "        \\textbf{v} \\cdotp \\textbf{w} &=\\begin{bmatrix}\n",
    "            2 \\\\\n",
    "            1 \\\\\n",
    "            5\n",
    "        \\end{bmatrix} * \\begin{bmatrix}\n",
    "            3 \\\\\n",
    "            -2 \\\\\n",
    "            6 \n",
    "        \\end{bmatrix} = \\begin{bmatrix}\n",
    "            6 \\\\\n",
    "            -2 \\\\\n",
    "            30\n",
    "        \\end{bmatrix}\n",
    "\\end{align}\n"
   ]
  },
  {
   "cell_type": "code",
   "execution_count": 10,
   "id": "3cf806d3-de17-4550-aad5-2608d44bb6a0",
   "metadata": {},
   "outputs": [
    {
     "name": "stdout",
     "output_type": "stream",
     "text": [
      "u*v = [  2   3 -20]\n",
      "u*w = [  3  -6 -24]\n",
      "v*w = [ 6 -2 30]\n"
     ]
    }
   ],
   "source": [
    "#python solution for c\n",
    "import numpy as np\n",
    "\n",
    "u = np.array([1, 3, -4])\n",
    "v = np.array([2, 1, 5])\n",
    "w = np.array([3, -2, 6])\n",
    "\n",
    "print(\"u*v = \" + str(u*v) )\n",
    "print(\"u*w = \" + str(u*w) )\n",
    "print(\"v*w = \" + str(v*w) )"
   ]
  },
  {
   "cell_type": "markdown",
   "id": "c7f6109e-c544-4c41-bcba-11b5ee2758b9",
   "metadata": {},
   "source": [
    "<br><br><br>\n",
    "### d. ||$\\textbf{u}$||, ||$\\textbf{v}$||, ||$\\textbf{w}$||<br>\n",
    "\n",
    "Manual Solution: \n",
    "\\begin{align}\n",
    "    ||\\textbf{u}|| =\n",
    "    \\sqrt{\\textbf{u} \\cdotp \\textbf{u}} =\n",
    "    \\sqrt{(1)^2+(3)^2+(4)^2} =\n",
    "    \\sqrt{1 + 9 + 16} =\n",
    "    \\sqrt{26}\n",
    "\\end{align}\n",
    "<br>\n",
    "\\begin{align}\n",
    "    ||\\textbf{v}|| = \n",
    "    \\sqrt{\\textbf{v} \\cdotp \\textbf{v}} = \n",
    "    \\sqrt{(2)^2+(1)^2+(5)^2} = \n",
    "    \\sqrt{4 + 1 + 25} = \n",
    "    \\sqrt{30}\n",
    "\\end{align}\n",
    "<br>\n",
    "\\begin{align}\n",
    "    ||\\textbf{w}|| = \n",
    "    \\sqrt{\\textbf{w} \\cdotp \\textbf{v}} = \n",
    "    \\sqrt{(3)^2+(-2)^2+(6)^2} = \n",
    "    \\sqrt{9 + 4 + 36} = \n",
    "    \\sqrt{49}\n",
    "\\end{align}\n"
   ]
  },
  {
   "cell_type": "code",
   "execution_count": 8,
   "id": "73131e8a-0237-42f0-afd1-61b21df7657f",
   "metadata": {},
   "outputs": [
    {
     "name": "stdout",
     "output_type": "stream",
     "text": [
      "||u||:  5.0990195135927845\n",
      "sqrt(26):  5.0990195135927845\n",
      "||v||:  5.477225575051661\n",
      "sqrt(30):  5.477225575051661\n",
      "||w||:  7.0\n",
      "sqrt(49):  7.0\n"
     ]
    }
   ],
   "source": [
    "#python solution for d\n",
    "import numpy as np\n",
    "from numpy.linalg import norm\n",
    "\n",
    "u = np.array([1, 3, -4])\n",
    "v = np.array([2, 1, 5])\n",
    "w = np.array([3, -2, 6])\n",
    "\n",
    "\n",
    "print('||u||: ', np.sqrt(u.dot(u)))\n",
    "print('sqrt(26): ', np.sqrt(26))\n",
    "\n",
    "print('||v||: ', np.sqrt(v.dot(v)))\n",
    "print('sqrt(30): ', np.sqrt(30))\n",
    "\n",
    "print('||w||: ', np.sqrt(w.dot(w)))\n",
    "print('sqrt(49): ', np.sqrt(49))"
   ]
  },
  {
   "cell_type": "markdown",
   "id": "8aed8fc6-d12a-446b-bebf-0c42ef2dd1f3",
   "metadata": {},
   "source": [
    "<br><br><br>\n",
    "### e. If $\\theta$ is the angle between $\\textbf{u}$  and   $\\textbf{v}$, find $\\cos{\\theta}$.<br>\n",
    "\n",
    "Manual Solution: \n",
    "\\begin{align}\n",
    "    \\cos{\\theta}=\\frac{\\textbf{u} \\cdotp \\textbf{v}}{||\\textbf{u}|| \\ ||\\textbf{v}||} = \n",
    "    \\frac{-15}{\\sqrt{26}\\sqrt{30}}\n",
    "\\end{align}\n",
    "\n"
   ]
  },
  {
   "cell_type": "code",
   "execution_count": 11,
   "id": "945e1e9d-e183-4c16-bef1-1f2296d317b0",
   "metadata": {},
   "outputs": [
    {
     "name": "stdout",
     "output_type": "stream",
     "text": [
      "angle:  -0.5370861555295747\n",
      "angle:  -0.5370861555295747\n"
     ]
    }
   ],
   "source": [
    "import numpy as np\n",
    "from numpy.linalg import norm\n",
    "\n",
    "u = np.array([1, 3, -4])\n",
    "v = np.array([2, 1, 5])\n",
    "w = np.array([3, -2, 6])\n",
    "\n",
    "print('angle: ', np.dot(u,v)/(np.linalg.norm(u)*np.linalg.norm(v)))\n",
    "print(\"angle: \",-15/(np.sqrt(26)*np.sqrt(30)))"
   ]
  },
  {
   "cell_type": "markdown",
   "id": "ad4d7e1d-1511-4bfc-88ee-b60f07188e45",
   "metadata": {},
   "source": [
    "<br><br><br>\n",
    "### f. If $\\alpha$ is the angle between $\\textbf{v}$  and   $\\textbf{w}$, find $\\cos{\\alpha}$.<br>\n",
    "\n",
    "Manual Solution: \n",
    "\\begin{align}\n",
    "    \\cos{\\theta}=\\frac{\\textbf{u} \\cdotp \\textbf{v}}{||\\textbf{u}|| \\ ||\\textbf{v}||} = \n",
    "    \\frac{34}{\\sqrt{30}\\sqrt{49}}\n",
    "\\end{align}\n"
   ]
  },
  {
   "cell_type": "code",
   "execution_count": 12,
   "id": "e2e1531e-4bdf-4064-a5ed-5b052713f0cf",
   "metadata": {},
   "outputs": [
    {
     "name": "stdout",
     "output_type": "stream",
     "text": [
      "angle:  0.8867889026274118\n",
      "angle:  0.8867889026274118\n"
     ]
    }
   ],
   "source": [
    "import numpy as np\n",
    "from numpy.linalg import norm\n",
    "\n",
    "u = np.array([1, 3, -4])\n",
    "v = np.array([2, 1, 5])\n",
    "w = np.array([3, -2, 6])\n",
    "\n",
    "print('angle: ', np.dot(v,w)/(np.linalg.norm(w)*np.linalg.norm(v)))\n",
    "print(\"angle: \",34/(np.sqrt(30)*np.sqrt(49)))"
   ]
  },
  {
   "cell_type": "markdown",
   "id": "5aecde36-f310-47d9-83e2-ee7123f772f0",
   "metadata": {},
   "source": [
    "<br><br><br>\n",
    "### g. If $\\beta$ is the angle between $\\textbf{u}$  and   $\\textbf{w}$, find $\\cos{\\beta}$.<br>\n",
    "\n",
    "Manual Solution: \n",
    "\\begin{align}\n",
    "    \\cos{\\theta}=\\frac{\\textbf{u} \\cdotp \\textbf{v}}{||\\textbf{u}|| \\ ||\\textbf{v}||} = \n",
    "    \\frac{-27}{\\sqrt{26}\\sqrt{49}}\n",
    "\\end{align}"
   ]
  },
  {
   "cell_type": "code",
   "execution_count": 13,
   "id": "b743732b-e943-4f89-810b-aa2134cb902f",
   "metadata": {},
   "outputs": [
    {
     "name": "stdout",
     "output_type": "stream",
     "text": [
      "angle:  -0.7564479498187099\n",
      "angle:  -0.7564479498187099\n"
     ]
    }
   ],
   "source": [
    "import numpy as np\n",
    "from numpy.linalg import norm\n",
    "\n",
    "u = np.array([1, 3, -4])\n",
    "v = np.array([2, 1, 5])\n",
    "w = np.array([3, -2, 6])\n",
    "\n",
    "print('angle: ', np.dot(u,w)/(np.linalg.norm(u)*np.linalg.norm(w)))\n",
    "print(\"angle: \",-27/(np.sqrt(26)*np.sqrt(49)))"
   ]
  },
  {
   "cell_type": "markdown",
   "id": "b6874bd2-aeb8-4249-b61f-c05055c05442",
   "metadata": {},
   "source": [
    "<br><br><br>\n",
    "### h. Find $d(\\textbf{u},\\textbf{v})$.<br>\n",
    "\n",
    "\n",
    "Manual Solution: \n",
    "\\begin{align}\n",
    "        d(\\textbf{u},\\textbf{v}) = \n",
    "        ||\\textbf{u} - \\textbf{v}|| = \n",
    "        \\sqrt{(1-2)^2 + (3-1)^2 + ((-4)-5)^2} = \n",
    "        \\sqrt{1 + 4 + 81} = \n",
    "        \\sqrt{86}\n",
    "\\end{align}"
   ]
  },
  {
   "cell_type": "code",
   "execution_count": 14,
   "id": "838425af-91cb-4bd9-8892-8eb5c841b1f4",
   "metadata": {},
   "outputs": [
    {
     "name": "stdout",
     "output_type": "stream",
     "text": [
      "d(u,v):  9.273618495495704\n",
      "sqrt(86):  9.273618495495704\n"
     ]
    }
   ],
   "source": [
    "import numpy as np\n",
    "from numpy.linalg import norm\n",
    "\n",
    "u = np.array([1, 3, -4])\n",
    "v = np.array([2, 1, 5])\n",
    "w = np.array([3, -2, 6])\n",
    "\n",
    "print('d(u,v): ', np.linalg.norm(u - v))\n",
    "print(\"sqrt(86): \", np.sqrt(86))"
   ]
  },
  {
   "cell_type": "markdown",
   "id": "0a74812b-928b-4029-bdbd-ebd42b217178",
   "metadata": {},
   "source": [
    "<br><br><br>\n",
    "### i. Find $d(\\textbf{w},\\textbf{v})$.<br>\n",
    "\n",
    "\n",
    "Manual Solution: \n",
    "\\begin{align}\n",
    "        d(\\textbf{w},\\textbf{v}) = \n",
    "        ||\\textbf{w} - \\textbf{v}|| = \n",
    "        \\sqrt{(3-2)^2 + ((-2)-1)^2 + (6-5)^2} = \n",
    "        \\sqrt{1 + 9 + 1} = \n",
    "        \\sqrt{11}\n",
    "\\end{align}"
   ]
  },
  {
   "cell_type": "code",
   "execution_count": 15,
   "id": "536215f6-0db8-409e-9554-da38baca7016",
   "metadata": {},
   "outputs": [
    {
     "name": "stdout",
     "output_type": "stream",
     "text": [
      "d(w,v):  3.3166247903554\n",
      "sqrt(11):  3.3166247903554\n"
     ]
    }
   ],
   "source": [
    "import numpy as np\n",
    "from numpy.linalg import norm\n",
    "\n",
    "u = np.array([1, 3, -4])\n",
    "v = np.array([2, 1, 5])\n",
    "w = np.array([3, -2, 6])\n",
    "\n",
    "print('d(w,v): ', np.linalg.norm(w - v))\n",
    "print(\"sqrt(11): \", np.sqrt(11))"
   ]
  },
  {
   "cell_type": "markdown",
   "id": "e2d8adb6-bec8-4126-a75f-3d32b9b2ef34",
   "metadata": {},
   "source": [
    "<br><br><br>\n",
    "### j. Find $d(\\textbf{u},\\textbf{w})$. <br>\n",
    "\n",
    "\n",
    "Manual Solution: \n",
    "\\begin{align}\n",
    "        d(\\textbf{u},\\textbf{w}) = \n",
    "        ||\\textbf{u} - \\textbf{w}|| = \n",
    "        \\sqrt{(1-3)^2 + (3-(-2))^2 + ((-4)-6)^2} = \n",
    "        \\sqrt{4 + 25 +100} = \n",
    "        \\sqrt{129}\n",
    "\\end{align}"
   ]
  },
  {
   "cell_type": "code",
   "execution_count": 17,
   "id": "90041bcd-867f-4865-b6dd-cb7a45ea8ded",
   "metadata": {},
   "outputs": [
    {
     "name": "stdout",
     "output_type": "stream",
     "text": [
      "d(u,w):  11.357816691600547\n",
      "sqrt(129):  11.357816691600547\n"
     ]
    }
   ],
   "source": [
    "import numpy as np\n",
    "from numpy.linalg import norm\n",
    "\n",
    "u = np.array([1, 3, -4])\n",
    "v = np.array([2, 1, 5])\n",
    "w = np.array([3, -2, 6])\n",
    "\n",
    "print('d(u,w): ', np.linalg.norm(u - w))\n",
    "print(\"sqrt(129): \", np.sqrt(129))"
   ]
  },
  {
   "cell_type": "markdown",
   "id": "975c72a4-4720-4e64-86be-9c369e58907a",
   "metadata": {},
   "source": [
    "<br><br><br>\n",
    "### k. Find $proj(\\textbf{u},\\textbf{v})$.<br>\n",
    "\n",
    "\n",
    "Manual Solution: \n",
    "\\begin{align}\n",
    "    proj(\\textbf{u},\\textbf{v}) =\n",
    "    \\frac{\\textbf{u} \\cdotp \\textbf{v}}{||\\textbf{v}||^2} \\textbf{v} =\n",
    "    \\frac{-15}{(\\sqrt{30})^2}(2,1,5) =\n",
    "    \\frac{-15}{30}(2,1,5) =\n",
    "    \\frac{-1}{2}(2,1,5) = \n",
    "    (\\frac{-2}{2},\\frac{-1}{2},\\frac{-5}{2}) =\n",
    "\\end{align}"
   ]
  },
  {
   "cell_type": "code",
   "execution_count": 19,
   "id": "d96221a7-5b59-4d30-bad1-6acca3109a59",
   "metadata": {},
   "outputs": [
    {
     "name": "stdout",
     "output_type": "stream",
     "text": [
      "proj(u,v):  [-1.  -0.5 -2.5]\n",
      "proj(u,v):  [-1.0, -0.5, -2.5]\n"
     ]
    }
   ],
   "source": [
    "#python solution for k\n",
    "import numpy as np\n",
    "from numpy.linalg import norm\n",
    "\n",
    "u = np.array([1, 3, -4])\n",
    "v = np.array([2, 1, 5])\n",
    "w = np.array([3, -2, 6])\n",
    "\n",
    "print(\"proj(u,v): \",u.dot(v)*v/(np.linalg.norm(v)**2) )\n",
    "print(\"proj(u,v): \",[-2/2,-1/2,-5/2])"
   ]
  },
  {
   "cell_type": "markdown",
   "id": "d98cfaa4-c119-4b26-a8e8-2546fc4f4f5c",
   "metadata": {},
   "source": [
    "<br><br><br>\n",
    "### l. Find $proj(\\textbf{w},\\textbf{v})$.<br>\n",
    "Manual Solution: \n",
    "\\begin{align}\n",
    "    proj(\\textbf{w},\\textbf{v}) =\n",
    "    \\frac{\\textbf{w} \\cdotp \\textbf{v}}{||\\textbf{v}||^2} \\textbf{v} =\n",
    "    \\frac{34}{(\\sqrt{30})^2}(2,1,5) =\n",
    "    \\frac{34}{30}(2,1,5) =\n",
    "    (\\frac{68}{30},\\frac{34}{30},\\frac{170}{30})\n",
    "\\end{align}"
   ]
  },
  {
   "cell_type": "code",
   "execution_count": 20,
   "id": "93ff4013-e2e9-45a2-8178-ebb3762ce72c",
   "metadata": {},
   "outputs": [
    {
     "name": "stdout",
     "output_type": "stream",
     "text": [
      "proj(w,v):  [2.26666667 1.13333333 5.66666667]\n",
      "proj(w,v):  [2.2666666666666666, 1.1333333333333333, 5.666666666666667]\n"
     ]
    }
   ],
   "source": [
    "#python solution for k\n",
    "import numpy as np\n",
    "from numpy.linalg import norm\n",
    "\n",
    "u = np.array([1, 3, -4])\n",
    "v = np.array([2, 1, 5])\n",
    "w = np.array([3, -2, 6])\n",
    "\n",
    "print(\"proj(w,v): \",w.dot(v)*v/(np.linalg.norm(v)**2) )\n",
    "print(\"proj(w,v): \",[68/30,34/30,170/30])"
   ]
  },
  {
   "cell_type": "markdown",
   "id": "e22b7957-bd62-4e04-b32a-0f00059a987e",
   "metadata": {},
   "source": [
    "<br><br><br>\n",
    "### m. Find $proj(\\textbf{u},\\textbf{w})$. <br> \n",
    "\n",
    "\n",
    "\n",
    "Manual Solution: \n",
    "\\begin{align}\n",
    "    proj(\\textbf{u},\\textbf{w}) =\n",
    "    \\frac{\\textbf{u} \\cdotp \\textbf{w}}{||\\textbf{w}||^2} \\textbf{w} =\n",
    "    \\frac{-27}{(\\sqrt{49})^2}(3,-2,6) =\n",
    "    \\frac{-27}{49}(3,-2,6) =\n",
    "    (\\frac{-81}{49},\\frac{54}{49},\\frac{-162}{49})\n",
    "\\end{align}"
   ]
  },
  {
   "cell_type": "code",
   "execution_count": 22,
   "id": "7cb025f5-676b-418e-9527-382e52b9e762",
   "metadata": {},
   "outputs": [
    {
     "name": "stdout",
     "output_type": "stream",
     "text": [
      "proj(w,v):  [-1.65306122  1.10204082 -3.30612245]\n",
      "proj(w,v):  [-1.653061224489796, 1.1020408163265305, -3.306122448979592]\n"
     ]
    }
   ],
   "source": [
    "#python solution for k\n",
    "import numpy as np\n",
    "from numpy.linalg import norm\n",
    "\n",
    "u = np.array([1, 3, -4])\n",
    "v = np.array([2, 1, 5])\n",
    "w = np.array([3, -2, 6])\n",
    "\n",
    "print(\"proj(w,v): \",u.dot(w)*w/(np.linalg.norm(w)**2) )\n",
    "print(\"proj(w,v): \",[-81/49,54/49,-162/49])"
   ]
  },
  {
   "cell_type": "markdown",
   "id": "19b7cc9b-76c8-4297-b474-9f20c2428b9e",
   "metadata": {},
   "source": [
    "<br>\n",
    "<br>\n",
    "<br>"
   ]
  },
  {
   "cell_type": "markdown",
   "id": "9b1339d4-1826-4de1-ad4e-803858c833ba",
   "metadata": {},
   "source": [
    "## 3. Let $\\textbf{u} = (2,-5,4,6,-3)$, $\\textbf{v} = (5,-2,1,-7,-4)$, and $\\textbf{w} = (2,1,-3)$ find:<br>\n",
    "a. $4\\textbf{u}-3\\textbf{v}$<br>\n",
    "b. $5\\textbf{u}+2\\textbf{v}-2\\textbf{w}$<br>\n",
    "c. $\\textbf{u} \\cdotp \\textbf{v}$,$\\textbf{v} \\cdotp \\textbf{w}$, $\\textbf{u} \\cdotp \\textbf{w}$<br>\n",
    "d. ||$\\textbf{u}$||, ||$\\textbf{v}$||, ||$\\textbf{w}$||<br>\n",
    "e. If $\\theta$ is the angle between $\\textbf{u}$  and   $\\textbf{v}$, find $\\cos{\\theta}$.<br>\n",
    "f. If $\\alpha$ is the angle between $\\textbf{v}$  and   $\\textbf{w}$, find $\\cos{\\alpha}$.<br>\n",
    "g. If $\\beta$ is the angle between $\\textbf{u}$  and   $\\textbf{w}$, find $\\cos{\\beta}$.<br>\n",
    "h. Find $d(\\textbf{u},\\textbf{v})$.<br>\n",
    "i. Find $d(\\textbf{w},\\textbf{v})$.<br>\n",
    "j. Find $d(\\textbf{u},\\textbf{w})$. <br>\n",
    "k. Find $proj(\\textbf{u},\\textbf{v})$.<br>\n",
    "l. Find $proj(\\textbf{w},\\textbf{v})$.<br>\n",
    "m. Find $proj(\\textbf{u},\\textbf{w})$. <br> "
   ]
  },
  {
   "cell_type": "markdown",
   "id": "08d3b2b4-1e15-4023-95f9-6a69b048ffe6",
   "metadata": {},
   "source": [
    "### a. $4\\textbf{u}-3\\textbf{v}$ \n",
    "<br>\n",
    "\n",
    "Manual Solution: <br>\n",
    "    = 4(2, -5, 4 6 ) - 3(5, -2, 1, -7, -4)\n",
    "<br>\n",
    "    = (8, -20, 16, 24, -12) + (-15, 6, -3, 21, 12) \n",
    "<br>\n",
    "    = (-7, -11, 13, 5, 0)\n",
    "\n"
   ]
  },
  {
   "cell_type": "code",
   "execution_count": 24,
   "id": "2835104a-2796-49f3-acbc-5566dc0e529d",
   "metadata": {},
   "outputs": [
    {
     "name": "stdout",
     "output_type": "stream",
     "text": [
      "[ -7 -14  13  45   0]\n"
     ]
    }
   ],
   "source": [
    "#python solution for a\n",
    "import numpy as np\n",
    "\n",
    "u = np.array([2, -5, 4, 6, -3])\n",
    "v = np.array([5, -2, 1, -7, -4])\n",
    "w = np.array([2, 1, -3])\n",
    "\n",
    "print((4*u) - (3*v))"
   ]
  },
  {
   "cell_type": "markdown",
   "id": "fd52d11b-4964-4a9b-ba3a-e744789d83fe",
   "metadata": {},
   "source": [
    "<br><br><br>\n",
    "\n",
    "### b. $5\\textbf{u}+2\\textbf{v}-2\\textbf{w}$ <br>\n",
    "\n",
    "Manual Solution:\n",
    "<br>\n",
    "= 5(2, -5, 4, 6, -3)+ 2(5, -2, 1, -7,-4) - 2(2, 1,-3) \n",
    "<br>\n",
    "= (10, -25, 20, 30, -15) + (10, -4, 2, -14, -8) + (-4, -2, 6)\n",
    "<br>\n",
    "= (16, -31, 28, 16, -23)\n",
    "\n"
   ]
  },
  {
   "cell_type": "code",
   "execution_count": 27,
   "id": "80e6daf0-8f05-4618-8d5b-0599c3ebbb59",
   "metadata": {},
   "outputs": [
    {
     "name": "stdout",
     "output_type": "stream",
     "text": [
      "[ 16 -31  28  16 -23]\n"
     ]
    }
   ],
   "source": [
    "#python solution for b\n",
    "import numpy as np\n",
    "\n",
    "u = np.array([2, -5, 4, 6, -3])\n",
    "v = np.array([5, -2, 1, -7, -4])\n",
    "w = np.array([2, 1, -3, 0, 0])\n",
    "\n",
    "print((5*u) + (2*v) - (2*w))"
   ]
  },
  {
   "cell_type": "markdown",
   "id": "178d2638-4982-451d-beed-85f2ab5bbf7c",
   "metadata": {},
   "source": [
    "<br><br><br>\n",
    "### c. $\\textbf{u} \\cdotp \\textbf{v}$,$\\textbf{v} \\cdotp \\textbf{w}$, $\\textbf{u} \\cdotp \\textbf{w}$<br>\n",
    "\n",
    "Manual Solution: \n",
    "<br>\n",
    "= $\\textbf{u} \\cdotp \\textbf{v}$\n",
    "<br>\n",
    "= $(2, -5, 4, 6, -3) \\cdot (5, -2, 1, -7,-4)$\n",
    "<br>\n",
    "= $(10, 10, 4, -42, 12)$\n",
    "<br>\n",
    "= $-6$\n",
    "<br>\n",
    "<br>\n",
    "= $\\textbf{v} \\cdotp \\textbf{w}$\n",
    "<br>\n",
    "= $(5, -2, 1, -7,-4) \\cdot (2, 1, -3, 0, 0)$\n",
    "<br>\n",
    "= $(10, -2, -3, 0, 0)$\n",
    "= $5$\n",
    "<br>\n",
    "<br>\n",
    "= $\\textbf{u} \\cdotp \\textbf{w}$\n",
    "<br>\n",
    "= $(2, -5, 4, 6, -3) \\cdot (2, 1, -3, 0, 0)$\n",
    "<br>\n",
    "=$(4, -5, -12, 0, 0)$\n",
    "<br>\n",
    "=$-13$"
   ]
  },
  {
   "cell_type": "code",
   "execution_count": 39,
   "id": "cc3a3f27-43c9-47b6-ba76-55b6164a60ec",
   "metadata": {},
   "outputs": [
    {
     "name": "stdout",
     "output_type": "stream",
     "text": [
      "u*v =  -6\n",
      "v*w =  5\n",
      "u*w =  -13\n"
     ]
    }
   ],
   "source": [
    "#python solution for c\n",
    "import numpy as np\n",
    "\n",
    "u = np.array([2, -5, 4, 6, -3])\n",
    "v = np.array([5, -2, 1, -7, -4])\n",
    "w = np.array([2, 1, -3])\n",
    "\n",
    "print(\"u*v = \", u.dot(v) )\n",
    "print(\"v*w = \", v.dot(np.append(w, [0,0])))\n",
    "print(\"u*w = \", u.dot(np.append(w, [0,0])))"
   ]
  },
  {
   "cell_type": "markdown",
   "id": "70c198f2-82ca-4359-b503-f8fea6288a80",
   "metadata": {},
   "source": [
    "### d. ||$\\textbf{u}$||, ||$\\textbf{v}$||, ||$\\textbf{w}$||<br>\n",
    "\n",
    "Manual Solution: \n",
    "\\begin{align}\n",
    "    ||\\textbf{u}|| =\n",
    "    \\sqrt{\\textbf{u} \\cdotp \\textbf{u}} =\n",
    "    \\sqrt{(2)^2+(-5)^2+(4)^2+(6)^2+(-3)^2} =\n",
    "    \\sqrt{4 + 25 + 16 + 36 + 9} =\n",
    "    \\sqrt{90}\n",
    "\\end{align}\n",
    "<br>\n",
    "\\begin{align}\n",
    "    ||\\textbf{v}|| = \n",
    "    \\sqrt{\\textbf{v} \\cdotp \\textbf{v}} = \n",
    "    \\sqrt{(5)^2+(-2)^2+(1)^2+(-7)^2+(-4)^2} = \n",
    "    \\sqrt{25 + 4 + 1 + 49 + 16} = \n",
    "    \\sqrt{95}\n",
    "\\end{align}\n",
    "<br>\n",
    "\\begin{align}\n",
    "    ||\\textbf{w}|| = \n",
    "    \\sqrt{\\textbf{w} \\cdotp \\textbf{v}} = \n",
    "    \\sqrt{(2)^2+(1)^2+(-3)^2} = \n",
    "    \\sqrt{4 + 1 + 9} = \n",
    "    \\sqrt{14}\n",
    "\\end{align}\n"
   ]
  },
  {
   "cell_type": "code",
   "execution_count": 42,
   "id": "d002b152-0036-4128-bc6b-b91fc473f303",
   "metadata": {},
   "outputs": [
    {
     "name": "stdout",
     "output_type": "stream",
     "text": [
      "||u||:  9.486832980505138\n",
      "sqrt(90):  9.486832980505138\n",
      "||v||:  9.746794344808963\n",
      "sqrt(95):  9.746794344808963\n",
      "||w||:  3.7416573867739413\n",
      "sqrt(14):  3.7416573867739413\n"
     ]
    }
   ],
   "source": [
    "#python solution for d\n",
    "import numpy as np\n",
    "from numpy.linalg import norm\n",
    "\n",
    "u = np.array([2, -5, 4, 6, -3])\n",
    "v = np.array([5, -2, 1, -7, -4])\n",
    "w = np.array([2, 1, -3])\n",
    "\n",
    "\n",
    "print('||u||: ', np.sqrt(u.dot(u)))\n",
    "print('sqrt(90): ', np.sqrt(90))\n",
    "\n",
    "print('||v||: ', np.sqrt(v.dot(v)))\n",
    "print('sqrt(95): ', np.sqrt(95))\n",
    "\n",
    "print('||w||: ', np.sqrt(w.dot(w)))\n",
    "print('sqrt(14): ', np.sqrt(14))"
   ]
  },
  {
   "cell_type": "markdown",
   "id": "81f2299f-c67c-4dea-b1f2-aa96f5efbb00",
   "metadata": {},
   "source": [
    "<br><br><br>\n",
    "### e. If $\\theta$ is the angle between $\\textbf{u}$  and   $\\textbf{v}$, find $\\cos{\\theta}$.<br>\n",
    "\n",
    "Manual Solution: \n",
    "\\begin{align}\n",
    "    \\cos{\\theta}=\\frac{\\textbf{u} \\cdotp \\textbf{v}}{||\\textbf{u}|| \\ ||\\textbf{v}||} = \n",
    "    \\frac{-6}{\\sqrt{90}\\sqrt{95}}\n",
    "\\end{align}\n",
    "\n"
   ]
  },
  {
   "cell_type": "code",
   "execution_count": 44,
   "id": "ddb91e47-c1a8-4196-8beb-2f68b67459f7",
   "metadata": {},
   "outputs": [
    {
     "name": "stdout",
     "output_type": "stream",
     "text": [
      "angle:  -0.06488856845230502\n",
      "angle:  -0.06488856845230502\n"
     ]
    }
   ],
   "source": [
    "#python solution for e\n",
    "import numpy as np\n",
    "from numpy.linalg import norm\n",
    "\n",
    "u = np.array([2, -5, 4, 6, -3])\n",
    "v = np.array([5, -2, 1, -7, -4])\n",
    "w = np.array([2, 1, -3])\n",
    "\n",
    "print('angle: ', np.dot(u,v)/(np.linalg.norm(u)*np.linalg.norm(v)))\n",
    "print(\"angle: \",-6/(np.sqrt(90)*np.sqrt(95)))"
   ]
  },
  {
   "cell_type": "markdown",
   "id": "4ddcb16d-d325-44d7-b998-0e1b3862241c",
   "metadata": {},
   "source": [
    "<br><br><br>\n",
    "### f. If $\\alpha$ is the angle between $\\textbf{v}$  and   $\\textbf{w}$, find $\\cos{\\alpha}$.<br>\n",
    "\n",
    "Manual Solution: \n",
    "\\begin{align}\n",
    "    \\cos{\\alpha}=\\frac{\\textbf{v} \\cdotp \\textbf{w}}{||\\textbf{v}|| \\ ||\\textbf{w}||} = \n",
    "    \\frac{5}{\\sqrt{95}\\sqrt{14}}\n",
    "\\end{align}\n"
   ]
  },
  {
   "cell_type": "code",
   "execution_count": 47,
   "id": "19d22f43-ba94-44f5-a428-6914992d2374",
   "metadata": {},
   "outputs": [
    {
     "name": "stdout",
     "output_type": "stream",
     "text": [
      "angle:  0.13710212427677046\n",
      "angle:  0.13710212427677046\n"
     ]
    }
   ],
   "source": [
    "#python solution for f\n",
    "import numpy as np\n",
    "from numpy.linalg import norm\n",
    "\n",
    "u = np.array([2, -5, 4, 6, -3])\n",
    "v = np.array([5, -2, 1, -7, -4])\n",
    "w = np.array([2, 1, -3, 0, 0])\n",
    "\n",
    "print('angle: ', np.dot(v,w)/(np.linalg.norm(v)*np.linalg.norm(w)))\n",
    "print(\"angle: \", 5/(np.sqrt(95)*np.sqrt(14)))"
   ]
  },
  {
   "cell_type": "markdown",
   "id": "3b2d1e75-b28d-42cb-997e-2d07c810c36e",
   "metadata": {},
   "source": [
    "### g. If $\\beta$ is the angle between $\\textbf{u}$  and   $\\textbf{w}$, find $\\cos{\\beta}$.<br>\n",
    "\n",
    "\\begin{align}\n",
    "    \\cos{\\beta}=\\frac{\\textbf{u} \\cdotp \\textbf{w}}{||\\textbf{u}|| \\ ||\\textbf{w}||} = \n",
    "    \\frac{-13}{\\sqrt{90}\\sqrt{14}}\n",
    "\\end{align}\n",
    "\n"
   ]
  },
  {
   "cell_type": "code",
   "execution_count": 48,
   "id": "c319c7cb-5b10-4225-be46-7a518183edcf",
   "metadata": {},
   "outputs": [
    {
     "name": "stdout",
     "output_type": "stream",
     "text": [
      "angle:  -0.3662335103823572\n",
      "angle:  -0.3662335103823572\n"
     ]
    }
   ],
   "source": [
    "#python solution for g\n",
    "import numpy as np\n",
    "from numpy.linalg import norm\n",
    "\n",
    "u = np.array([2, -5, 4, 6, -3])\n",
    "v = np.array([5, -2, 1, -7, -4])\n",
    "w = np.array([2, 1, -3, 0, 0])\n",
    "\n",
    "print('angle: ', np.dot(u,w)/(np.linalg.norm(u)*np.linalg.norm(w)))\n",
    "print(\"angle: \", -13/(np.sqrt(90)*np.sqrt(14)))"
   ]
  },
  {
   "cell_type": "markdown",
   "id": "0fe2a314-c266-44e8-a7aa-34729281acfe",
   "metadata": {},
   "source": [
    "<br><br><br>\n",
    "### k. Find $proj(\\textbf{u},\\textbf{v})$.<br>\n",
    "\n",
    "\n",
    "Manual Solution: \n",
    "\\begin{align}\n",
    "    proj(\\textbf{u},\\textbf{v}) =\n",
    "    \\frac{\\textbf{u} \\cdotp \\textbf{v}}{||\\textbf{v}||^2} \\textbf{v} =\n",
    "    \\frac{-6}{(\\sqrt{95})^2}(5, -2, 1, -7, -4) =\n",
    "    \\frac{-6}{95}(5, -2, 1, -7, -4) =\n",
    "    \\frac{-6}{95}(5, -2, 1, -7, -4) = \n",
    "    (\\frac{-30}{95},\\frac{12}{95},\\frac{-6}{95}\\frac{42}{95}\\frac{24}{95}) =\n",
    "\\end{align}"
   ]
  },
  {
   "cell_type": "code",
   "execution_count": 51,
   "id": "aa7b8d23-0965-4781-bc93-93de10507ca4",
   "metadata": {},
   "outputs": [
    {
     "name": "stdout",
     "output_type": "stream",
     "text": [
      "proj(u,v):  [-0.31578947  0.12631579 -0.06315789  0.44210526  0.25263158]\n",
      "proj(u,v):  [0.3157894736842105, 0.12631578947368421, -0.06315789473684211, 0.4421052631578947, 0.25263157894736843]\n"
     ]
    }
   ],
   "source": [
    "#python solution for k\n",
    "import numpy as np\n",
    "from numpy.linalg import norm\n",
    "\n",
    "u = np.array([2, -5, 4, 6, -3])\n",
    "v = np.array([5, -2, 1, -7, -4])\n",
    "w = np.array([2, 1, -3, 0, 0])\n",
    "\n",
    "print(\"proj(u,v): \",u.dot(v)*v/(np.linalg.norm(v)**2) )\n",
    "print(\"proj(u,v): \",[30/95,12/95,-6/95,42/95,24/95])"
   ]
  },
  {
   "cell_type": "markdown",
   "id": "17971261-f218-4499-9fe8-dbd7b6af54ee",
   "metadata": {},
   "source": [
    "<br><br><br>\n",
    "### l. Find $proj(\\textbf{w},\\textbf{v})$.<br>\n",
    "Manual Solution: \n",
    "\\begin{align}\n",
    "    proj(\\textbf{w},\\textbf{v}) =\n",
    "    \\frac{\\textbf{w} \\cdotp \\textbf{v}}{||\\textbf{v}||^2} \\textbf{v} =\n",
    "    \\frac{5}{(\\sqrt{95})^2}(5, -2, 1, -7, -4) =\n",
    "    \\frac{5}{95}(5, -2, 1, -7, -4) =\n",
    "    \\frac{1}{19}(5, -2, 1, -7, -4) =\n",
    "    (\\frac{5}{19},\\frac{-2}{19},\\frac{1}{19}, \\frac{-7}{19}, \\frac{-4}{19})\n",
    "\\end{align}"
   ]
  },
  {
   "cell_type": "code",
   "execution_count": 52,
   "id": "d46079b9-3e9d-4a5e-ad62-469bbb470518",
   "metadata": {},
   "outputs": [
    {
     "name": "stdout",
     "output_type": "stream",
     "text": [
      "proj(w,v):  [ 0.26315789 -0.10526316  0.05263158 -0.36842105 -0.21052632]\n",
      "proj(w,v):  [0.2631578947368421, -0.10526315789473684, 0.05263157894736842, -0.3684210526315789, -0.21052631578947367]\n"
     ]
    }
   ],
   "source": [
    "#python solution for l\n",
    "import numpy as np\n",
    "from numpy.linalg import norm\n",
    "\n",
    "u = np.array([2, -5, 4, 6, -3])\n",
    "v = np.array([5, -2, 1, -7, -4])\n",
    "w = np.array([2, 1, -3, 0, 0])\n",
    "\n",
    "print(\"proj(w,v): \",w.dot(v)*v/(np.linalg.norm(v)**2) )\n",
    "print(\"proj(w,v): \",[5/19,-2/19,1/19,-7/19,-4/19])"
   ]
  },
  {
   "cell_type": "markdown",
   "id": "086c21b5-f888-4e06-b292-157f2b8f4afa",
   "metadata": {},
   "source": [
    "<br><br><br>\n",
    "### m. Find $proj(\\textbf{u},\\textbf{w})$. <br> \n",
    "\n",
    "\n",
    "\n",
    "Manual Solution: \n",
    "\\begin{align}\n",
    "    proj(\\textbf{u},\\textbf{w}) =\n",
    "    \\frac{\\textbf{u} \\cdotp \\textbf{w}}{||\\textbf{w}||^2} \\textbf{w} =\n",
    "    \\frac{-13}{(\\sqrt{14})^2}(2,1,-3) =\n",
    "    \\frac{-13}{14}(2,1,-3) =\n",
    "    (\\frac{-26}{14},\\frac{-13}{14},\\frac{39}{14})\n",
    "\\end{align}"
   ]
  },
  {
   "cell_type": "code",
   "execution_count": 64,
   "id": "4f76cd3f-9ec4-4076-a689-b3c196f65907",
   "metadata": {},
   "outputs": [
    {
     "name": "stdout",
     "output_type": "stream",
     "text": [
      "14.0\n",
      "proj(w,v):  [-1.85714286 -0.92857143  2.78571429  0.          0.        ]\n",
      "proj(w,v):  [-1.8571428571428572, -0.9285714285714286, 2.7857142857142856]\n"
     ]
    }
   ],
   "source": [
    "#python solution for m\n",
    "import numpy as np\n",
    "from numpy.linalg import norm\n",
    "\n",
    "u = np.array([2, -5, 4, 6, -3])\n",
    "v = np.array([5, -2, 1, -7, -4])\n",
    "w = np.array([2, 1, -3, 0, 0])\n",
    "\n",
    "print(\"proj(w,v): \",u.dot(w)*w/(np.linalg.norm(w)**2) )\n",
    "print(\"proj(w,v): \",[-26/14,-13/14,39/14])"
   ]
  },
  {
   "cell_type": "markdown",
   "id": "d9ad42ee-ecab-4eae-9b46-ca34d16c82eb",
   "metadata": {},
   "source": [
    "<br>\n",
    "<br>\n",
    "<br>"
   ]
  },
  {
   "cell_type": "markdown",
   "id": "a4bdef80-5140-47d6-8d08-5a9a133bec88",
   "metadata": {},
   "source": [
    "# 4. Normalize each vector:\n",
    "a. $\\textbf{u}$ = (5,-7).<br>\n",
    "b. $\\textbf{v}$ = (1,2,-2,4).<br>\n",
    "c. $\\textbf{w} = (\\frac{1}{2},\\frac{-1}{3},\\frac{3}{4})$."
   ]
  },
  {
   "cell_type": "markdown",
   "id": "6d451aa2-9ca3-4301-bc4e-b2f3954d19b9",
   "metadata": {},
   "source": [
    "<br><br><br>\n",
    "### a. $\\textbf{u}$ = (5,-7).<br>"
   ]
  },
  {
   "cell_type": "markdown",
   "id": "3c6e8366-beec-4038-88a9-2b2d3cbdedec",
   "metadata": {},
   "source": [
    "Manual Solution: \n",
    "\\begin{align}\n",
    "    ||\\textbf{u}|| =\n",
    "    \\sqrt{\\textbf{u} \\cdotp \\textbf{u}} =\n",
    "    \\sqrt{(5)^2+(-7)^2} =\n",
    "    \\sqrt{74} =\n",
    "\\end{align}\n",
    "\\begin{align}\n",
    "    u' = \\frac{u}{||u||} =\n",
    "    ({\\frac{5}{\\sqrt{74}}, \\frac{-7}{\\sqrt{74}}})\n",
    "\\end{align}"
   ]
  },
  {
   "cell_type": "code",
   "execution_count": 71,
   "id": "4d0eadbf-87b9-4e1a-a8c6-b0112802f377",
   "metadata": {},
   "outputs": [
    {
     "name": "stdout",
     "output_type": "stream",
     "text": [
      "u':  [ 0.58123819 -0.81373347]\n"
     ]
    }
   ],
   "source": [
    "#python solution for a\n",
    "import numpy as np\n",
    "from numpy.linalg import norm\n",
    "\n",
    "u = np.array([5, -7])\n",
    "print(\"u': \", u/np.sqrt(u.dot(u)))"
   ]
  },
  {
   "cell_type": "markdown",
   "id": "45d4db56-494b-4475-a7bc-b5cdc6be7015",
   "metadata": {},
   "source": [
    "<br><br><br>\n",
    "### b. $\\textbf{v}$ = (1,2,-2,4).<br>\n",
    "Manual Solution: \n",
    "\\begin{align}\n",
    "    ||\\textbf{v}|| =\n",
    "    \\sqrt{\\textbf{v} \\cdotp \\textbf{v}} =\n",
    "    \\sqrt{(1)^2+(2)^2+(-2)^2+(4)^2} =\n",
    "    \\sqrt{25} =\n",
    "    5\n",
    "\\end{align}\n",
    "\\begin{align}\n",
    "    u' = \\frac{u}{||u||} =\n",
    "    (\\frac{1}{5}, \\frac{2}{5},\\frac{-2}{5},\\frac{4}{5})\n",
    "\\end{align}"
   ]
  },
  {
   "cell_type": "code",
   "execution_count": 73,
   "id": "7e776414-4120-43a5-bcbd-c493cb53324e",
   "metadata": {},
   "outputs": [
    {
     "name": "stdout",
     "output_type": "stream",
     "text": [
      "u':  [ 0.2  0.4 -0.4  0.8]\n"
     ]
    }
   ],
   "source": [
    "#python solution for b\n",
    "import numpy as np\n",
    "from numpy.linalg import norm\n",
    "\n",
    "v = np.array([1, 2, -2, 4])\n",
    "print(\"v': \", v/np.sqrt(v.dot(v)))"
   ]
  },
  {
   "cell_type": "markdown",
   "id": "f0291e92-26b8-414b-a3ba-f2d5ebc0a3d7",
   "metadata": {},
   "source": [
    "<br><br><br>\n",
    "### c. $\\textbf{w} = (\\frac{1}{2},\\frac{-1}{3},\\frac{3}{4})$.\n",
    "\n",
    "Manual Solution: \n",
    "\\begin{align}\n",
    "    ||\\textbf{v}|| =\n",
    "    \\sqrt{\\textbf{v} \\cdotp \\textbf{v}} =\n",
    "    \\sqrt{(\\frac{1}{2})^2+\\frac{-1}{3})^2+\\frac{3}{4})^2} =\n",
    "    \\sqrt{(\\frac{1}{4})+\\frac{1}{9})+\\frac{9}{16}} =\n",
    "    \\sqrt{\\frac{133}{144}}\n",
    "\\end{align}\n"
   ]
  },
  {
   "cell_type": "code",
   "execution_count": 81,
   "id": "2c13c9ff-0479-4fc7-bdec-a0ccd3d9c62a",
   "metadata": {},
   "outputs": [
    {
     "name": "stdout",
     "output_type": "stream",
     "text": [
      "w':  0.961046882889233\n",
      "w':  0.961046882889233\n"
     ]
    }
   ],
   "source": [
    "#python solution for b\n",
    "import numpy as np\n",
    "from numpy.linalg import norm\n",
    "\n",
    "w = np.array([1/2, -1/3, 3/4])\n",
    "\n",
    "v = np.array([1, 2, -2, 4])\n",
    "print(\"w': \", np.linalg.norm(w))\n",
    "print(\"w': \", np.sqrt(133/144))"
   ]
  },
  {
   "cell_type": "markdown",
   "id": "140f3b8a-1d2d-4d0e-92a9-9b996946e668",
   "metadata": {},
   "source": [
    "<br><br><br>"
   ]
  },
  {
   "cell_type": "markdown",
   "id": "6a3c7585-0cdf-4ee1-a58c-d3634cfa66c4",
   "metadata": {},
   "source": [
    "## 5. Let $\\textbf{u} = (1,2,-2)$,$\\textbf{v} = (3,-12,4)$ and a scalar $k = -3$: <br>\n",
    "Find $||u||, ||v||, ||u+v||, ||ku||$.<br>"
   ]
  },
  {
   "cell_type": "markdown",
   "id": "31eb52fa-0829-472a-b781-9a67303d214d",
   "metadata": {},
   "source": [
    "### a. $||u||$\n",
    "\\begin{align}\n",
    "    ||u|| =\n",
    "    \\sqrt{u*u} =\n",
    "    \\sqrt{(1)^2+(2)^2+(-2)^2} =\n",
    "    \\sqrt{1 + 4 + 4} = \n",
    "    \\sqrt{9} =\n",
    "    3\n",
    "\\end{align}"
   ]
  },
  {
   "cell_type": "code",
   "execution_count": 83,
   "id": "48ea5963-8af9-4616-ab2a-fd8360082230",
   "metadata": {},
   "outputs": [
    {
     "name": "stdout",
     "output_type": "stream",
     "text": [
      "||u||:  3.0\n"
     ]
    }
   ],
   "source": [
    "#python solution for a\n",
    "import numpy as np\n",
    "from numpy.linalg import norm\n",
    "\n",
    "\n",
    "u = np.array([1, 2, -2])\n",
    "v = np.array([3, -12, 4])\n",
    "k = -3\n",
    "\n",
    "print(\"||u||: \", np.linalg.norm(u))"
   ]
  },
  {
   "cell_type": "markdown",
   "id": "8f7bcd2c-2cd5-4aab-b806-daef37fb2287",
   "metadata": {},
   "source": [
    "### b. $||v||$\n",
    "\\begin{align}\n",
    "    ||v|| =\n",
    "    \\sqrt{v*v} =\n",
    "    \\sqrt{(3)^2+(-12)^2+(4)^2} =\n",
    "    \\sqrt{9 + 144 + 16} = \n",
    "    \\sqrt{169} =\n",
    "    13\n",
    "\\end{align}"
   ]
  },
  {
   "cell_type": "code",
   "execution_count": 84,
   "id": "8fdb0024-fed2-4a53-9f2b-a51886ab9298",
   "metadata": {},
   "outputs": [
    {
     "name": "stdout",
     "output_type": "stream",
     "text": [
      "||ku||:  13.0\n"
     ]
    }
   ],
   "source": [
    "#python solution for b\n",
    "import numpy as np\n",
    "from numpy.linalg import norm\n",
    "\n",
    "\n",
    "u = np.array([1, 2, -2])\n",
    "v = np.array([3, -12, 4])\n",
    "k = -3\n",
    "\n",
    "print(\"||v||: \", np.linalg.norm(v))"
   ]
  },
  {
   "cell_type": "markdown",
   "id": "aa32ad59-93b5-48fd-9609-399de6461c72",
   "metadata": {},
   "source": [
    "### c. $||u+v||$\n",
    "\\begin{align}\n",
    "    ||u+v|| =\n",
    "    \\sqrt{(u+v) * (u+v)} =\n",
    "    \\sqrt{(1+3)^2+(2+(-12))^2+((-2)+4)^2} =\n",
    "    \\sqrt{16 + 100 + 4} = \n",
    "    \\sqrt{120}\n",
    "\\end{align}"
   ]
  },
  {
   "cell_type": "code",
   "execution_count": 86,
   "id": "d8fa14ff-6814-41b3-96d7-c3c6e2936a56",
   "metadata": {},
   "outputs": [
    {
     "name": "stdout",
     "output_type": "stream",
     "text": [
      "||u+v||:  10.954451150103322\n",
      "sqrt(120):  10.954451150103322\n"
     ]
    }
   ],
   "source": [
    "#python solution for b\n",
    "import numpy as np\n",
    "from numpy.linalg import norm\n",
    "\n",
    "\n",
    "u = np.array([1, 2, -2])\n",
    "v = np.array([3, -12, 4])\n",
    "k = -3\n",
    "\n",
    "print(\"||u+v||: \", np.linalg.norm(u+v))\n",
    "print(\"sqrt(120): \", np.sqrt(120))"
   ]
  },
  {
   "cell_type": "markdown",
   "id": "86bc6472-4eb2-46a9-a731-48ef9a0e4dd9",
   "metadata": {},
   "source": [
    "### d. $||ku||$\n",
    "\\begin{align}\n",
    "    ||ku|| =\n",
    "    \\sqrt{ku*ku} =\n",
    "    \\sqrt{(-3*1)^2+(-3*2)^2+(-3*-2)^2} =\n",
    "    \\sqrt{(3)^2+(-6)^2+(6)^2} = \n",
    "    \\sqrt{9 + 36 + 36} = \n",
    "    \\sqrt{81} =\n",
    "    9\n",
    "\\end{align}"
   ]
  },
  {
   "cell_type": "code",
   "execution_count": 77,
   "id": "48510b41-55f6-4ddd-9671-8e2c9f0af7f5",
   "metadata": {},
   "outputs": [
    {
     "name": "stdout",
     "output_type": "stream",
     "text": [
      "||ku||:  9.0\n"
     ]
    }
   ],
   "source": [
    "#python solution for d\n",
    "import numpy as np\n",
    "from numpy.linalg import norm\n",
    "\n",
    "\n",
    "u = np.array([1, 2, -2])\n",
    "v = np.array([3, -12, 4])\n",
    "k = -3\n",
    "\n",
    "print(\"||ku||: \", np.linalg.norm(k*u))"
   ]
  },
  {
   "cell_type": "markdown",
   "id": "ae845ac5-3a61-40a6-aac8-7396b7c8187d",
   "metadata": {},
   "source": [
    "<br><br><br>"
   ]
  },
  {
   "cell_type": "markdown",
   "id": "b59503af-8fe7-45ff-be64-f45586cf2515",
   "metadata": {},
   "source": [
    "## 6. Find k so that $\\textbf{u}  \\ and \\  \\textbf{v}$ are orthogonal.\n",
    "a. $\\textbf{u} = (3, k, -2), \\textbf{v} = (6, -4, -3)$.<br>\n",
    "b. $\\textbf{u} = (5,k,-4,2), \\textbf{v} = (1,-3,2,2k)$.<br>\n",
    "c. $\\textbf{u} = (1,7,k+2,-2), \\textbf{v} = (3, k, -3,k)$.<br>"
   ]
  },
  {
   "cell_type": "markdown",
   "id": "cbcd9967-292c-4b97-a032-5d8a285e6c89",
   "metadata": {},
   "source": []
  }
 ],
 "metadata": {
  "kernelspec": {
   "display_name": "Python 3 (ipykernel)",
   "language": "python",
   "name": "python3"
  },
  "language_info": {
   "codemirror_mode": {
    "name": "ipython",
    "version": 3
   },
   "file_extension": ".py",
   "mimetype": "text/x-python",
   "name": "python",
   "nbconvert_exporter": "python",
   "pygments_lexer": "ipython3",
   "version": "3.10.12"
  }
 },
 "nbformat": 4,
 "nbformat_minor": 5
}
