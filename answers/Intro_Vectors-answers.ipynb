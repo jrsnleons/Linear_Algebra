{
 "cells": [
  {
   "cell_type": "markdown",
   "id": "fef5208f-0e9f-4f80-9a7f-e9d38e33bee9",
   "metadata": {},
   "source": [
    "# Intro_Vectors Assignment\n",
    "### by Jerson Paul Leones"
   ]
  },
  {
   "cell_type": "markdown",
   "id": "f63a7d55-50eb-4df0-b4db-37cee132e9ae",
   "metadata": {},
   "source": [
    "1. Let $\\textbf{u} = (1, -2, 4)$ and $\\textbf{v} = (3,5,1)$ $\\textbf{w} = (2,1,-3)$ find:<br>\n",
    "a. $3\\textbf{u}-2\\textbf{v}$<br>\n",
    "b. $5\\textbf{u}+3\\textbf{v}-4\\textbf{w}$<br>\n",
    "c. $\\textbf{u} \\cdotp \\textbf{v}$,$\\textbf{v} \\cdotp \\textbf{w}$, $\\textbf{u} \\cdotp \\textbf{w}$<br>\n",
    "d. ||$\\textbf{u}$||, ||$\\textbf{v}$||, ||$\\textbf{w}$||<br>\n",
    "e. If $\\theta$ is the angle between $\\textbf{u}$  and   $\\textbf{v}$, find $\\cos{\\theta}$.<br>\n",
    "f. If $\\alpha$ is the angle between $\\textbf{v}$  and   $\\textbf{w}$, find $\\cos{\\alpha}$.<br>\n",
    "g. If $\\beta$ is the angle between $\\textbf{u}$  and   $\\textbf{w}$, find $\\cos{\\beta}$.<br>\n",
    "h. Find $d(\\textbf{u},\\textbf{v})$.<br>\n",
    "i. Find $d(\\textbf{w},\\textbf{v})$.<br>\n",
    "j. Find $d(\\textbf{u},\\textbf{w})$. <br>\n",
    "k. Find $proj(\\textbf{u},\\textbf{v})$.<br>\n",
    "l. Find $proj(\\textbf{w},\\textbf{v})$.<br>\n",
    "m. Find $proj(\\textbf{u},\\textbf{w})$. <br>  "
   ]
  },
  {
   "cell_type": "markdown",
   "id": "d56b38f4-ab33-4b96-bf6f-35e6c845ad8d",
   "metadata": {},
   "source": [
    "# Answers"
   ]
  },
  {
   "cell_type": "markdown",
   "id": "59c67702-3002-4a90-83de-6c1893560e56",
   "metadata": {},
   "source": [
    "#### a. $3\\textbf{u}-2\\textbf{v}$<br>\n",
    "\n",
    "Manual Solution: \n",
    "\\begin{align}\n",
    "    3\\textbf{u}-2\\textbf{v} &= 3\\begin{bmatrix}\n",
    "           1 \\\\\n",
    "           -2 \\\\\n",
    "           4\n",
    "         \\end{bmatrix} - 2 \\begin{bmatrix}\n",
    "           3 \\\\\n",
    "           5 \\\\\n",
    "           1\n",
    "         \\end{bmatrix}= \\begin{bmatrix}\n",
    "           3 \\\\\n",
    "           -6 \\\\\n",
    "           12\n",
    "         \\end{bmatrix} + \\begin{bmatrix}\n",
    "           -6 \\\\\n",
    "           -25 \\\\\n",
    "           -2\n",
    "         \\end{bmatrix} = \\begin{bmatrix}\n",
    "           -3 \\\\\n",
    "           -16 \\\\\n",
    "           -10\n",
    "         \\end{bmatrix}\n",
    "    \\end{align}\n"
   ]
  },
  {
   "cell_type": "code",
   "execution_count": 14,
   "id": "e20e9d45-389c-4f41-9eb7-fb629cdd62b6",
   "metadata": {},
   "outputs": [
    {
     "name": "stdout",
     "output_type": "stream",
     "text": [
      "[ -3 -16  10]\n"
     ]
    }
   ],
   "source": [
    "#python solution for a\n",
    "import numpy as np\n",
    "\n",
    "u = np.array([1, -2, 4])\n",
    "v = np.array([3, 5, 1])\n",
    "\n",
    "print((3*u) - (2*v))"
   ]
  },
  {
   "cell_type": "markdown",
   "id": "c51f3d0a-feec-44d9-afe9-11095e5e4fe8",
   "metadata": {},
   "source": [
    "<br><br><br>\n",
    "#### b. $5\\textbf{u}+3\\textbf{v}-4\\textbf{w}$<br>\n",
    "\n",
    "Manual Solution: \n",
    "\\begin{align}\n",
    "        5\\textbf{u}+3\\textbf{v}-4\\textbf{w} \n",
    "\\end{align}\n",
    "<br>\n",
    "\\begin{align}\n",
    "    &= 5\\begin{bmatrix}\n",
    "           1 \\\\\n",
    "           -2 \\\\\n",
    "           4\n",
    "         \\end{bmatrix} + 3 \\begin{bmatrix}\n",
    "           3 \\\\\n",
    "           5 \\\\\n",
    "           1\n",
    "         \\end{bmatrix}- 4 \\begin{bmatrix}\n",
    "           2 \\\\\n",
    "           1 \\\\\n",
    "           -3\n",
    "         \\end{bmatrix}\n",
    "    \\end{align}\n",
    "<br>\n",
    "\\begin{align}\n",
    "   &= \\begin{bmatrix}\n",
    "        5 \\\\\n",
    "        -10 \\\\\n",
    "        20\n",
    "      \\end{bmatrix} + \\begin{bmatrix}\n",
    "        9 \\\\\n",
    "        15 \\\\\n",
    "        3\n",
    "      \\end{bmatrix} + \\begin{bmatrix}\n",
    "        -8 \\\\\n",
    "        -4 \\\\\n",
    "        12\n",
    "      \\end{bmatrix}\n",
    "    \\end{align}\n",
    "<br>\n",
    "\n",
    "\\begin{align}\n",
    "    &= \\begin{bmatrix}\n",
    "        6 \\\\\n",
    "        1 \\\\\n",
    "        35\n",
    "    \\end{bmatrix}\n",
    "\\end{align}\n",
    "      "
   ]
  },
  {
   "cell_type": "code",
   "execution_count": 13,
   "id": "6bdca3b2-8c40-42ed-b55b-57efdcb2a158",
   "metadata": {},
   "outputs": [
    {
     "name": "stdout",
     "output_type": "stream",
     "text": [
      "[ 6  1 35]\n"
     ]
    }
   ],
   "source": [
    "#python solution for b\n",
    "import numpy as np\n",
    "\n",
    "u = np.array([1, -2, 4])\n",
    "v = np.array([3, 5, 1])\n",
    "w = np.array([2, 1, -3])\n",
    "\n",
    "print((5*u) + (3*v) - (4*w))"
   ]
  },
  {
   "cell_type": "markdown",
   "id": "ee9d0996-73a6-4127-b481-068787da3669",
   "metadata": {},
   "source": [
    "<br><br><br>\n",
    "#### c. $\\textbf{u} \\cdotp \\textbf{v}$,$\\textbf{v} \\cdotp \\textbf{w}$, $\\textbf{u} \\cdotp \\textbf{w}$<br>\n",
    "\n",
    "Manual Solution: \n",
    "\\begin{align}\n",
    "        \\textbf{u} \\cdotp \\textbf{v} &=\\begin{bmatrix}\n",
    "            1 \\\\\n",
    "            -2 \\\\\n",
    "            4\n",
    "        \\end{bmatrix} * \\begin{bmatrix}\n",
    "            3 \\\\\n",
    "            5 \\\\\n",
    "            1 \n",
    "        \\end{bmatrix} = \\begin{bmatrix}\n",
    "            3 \\\\\n",
    "            -10 \\\\\n",
    "            4 \n",
    "        \\end{bmatrix}\n",
    "\\end{align}\n",
    "<br>\n",
    "\\begin{align}\n",
    "        \\textbf{u} \\cdotp \\textbf{w} &=\\begin{bmatrix}\n",
    "            1 \\\\\n",
    "            -2 \\\\\n",
    "            4\n",
    "        \\end{bmatrix} * \\begin{bmatrix}\n",
    "            2 \\\\\n",
    "            1 \\\\\n",
    "            -3 \n",
    "        \\end{bmatrix} = \\begin{bmatrix}\n",
    "            2 \\\\\n",
    "            -2 \\\\\n",
    "            12\n",
    "        \\end{bmatrix}\n",
    "\\end{align}\n",
    "<br>\n",
    "\\begin{align}\n",
    "        \\textbf{v} \\cdotp \\textbf{w} &=\\begin{bmatrix}\n",
    "            3 \\\\\n",
    "            5 \\\\\n",
    "            1\n",
    "        \\end{bmatrix} * \\begin{bmatrix}\n",
    "            2 \\\\\n",
    "            1 \\\\\n",
    "            -3 \n",
    "        \\end{bmatrix} = \\begin{bmatrix}\n",
    "            6 \\\\\n",
    "            5 \\\\\n",
    "            -3\n",
    "        \\end{bmatrix}\n",
    "\\end{align}\n"
   ]
  },
  {
   "cell_type": "code",
   "execution_count": 29,
   "id": "95c6b106-ab44-4006-b9e9-15e28762966b",
   "metadata": {},
   "outputs": [
    {
     "name": "stdout",
     "output_type": "stream",
     "text": [
      "u*v = [  3 -10   4]\n",
      "u*w = [  2  -2 -12]\n",
      "v*w = [ 6  5 -3]\n"
     ]
    }
   ],
   "source": [
    "#python solution for c\n",
    "import numpy as np\n",
    "\n",
    "u = np.array([1, -2, 4])\n",
    "v = np.array([3, 5, 1])\n",
    "w = np.array([2, 1, -3])\n",
    "\n",
    "print(\"u*v = \" + str(u*v) )\n",
    "print(\"u*w = \" + str(u*w) )\n",
    "print(\"v*w = \" + str(v*w) )"
   ]
  },
  {
   "cell_type": "markdown",
   "id": "5835bc8e-87b4-4bf5-9517-dc535e179736",
   "metadata": {},
   "source": [
    "<br><br><br>\n",
    "#### d. ||$\\textbf{u}$||, ||$\\textbf{v}$||, ||$\\textbf{w}$||<br>\n",
    "\n",
    "Manual Solution: \n",
    "\\begin{align}\n",
    "    ||\\textbf{u}|| = \\sqrt{\\textbf{u} \\cdotp \\textbf{u}} = \\sqrt{(1)^2+(-2)^2+(4)^2} = \\sqrt{1 + 4 + 16} = \\sqrt{21}\n",
    "\\end{align}\n",
    "\n"
   ]
  },
  {
   "cell_type": "code",
   "execution_count": 28,
   "id": "469c4b3d-b625-4ec6-b247-d4b06a3125e4",
   "metadata": {},
   "outputs": [
    {
     "name": "stdout",
     "output_type": "stream",
     "text": [
      "||u||:  4.58257569495584\n",
      "sqrt(21):  4.58257569495584\n"
     ]
    }
   ],
   "source": [
    "#python solution for d\n",
    "import numpy as np\n",
    "from numpy.linalg import norm\n",
    "\n",
    "u = np.array([1, -2, 4])\n",
    "v = np.array([3, 5, 1])\n",
    "w = np.array([2, 1, -3])\n",
    "\n",
    "\n",
    "print('||u||: ', np.sqrt(u.dot(u)))\n",
    "print('sqrt(21): ', np.sqrt(21))"
   ]
  },
  {
   "cell_type": "code",
   "execution_count": null,
   "id": "0fc26edf-b1ff-46e4-acf5-e648a90b0f0b",
   "metadata": {},
   "outputs": [],
   "source": []
  }
 ],
 "metadata": {
  "kernelspec": {
   "display_name": "Python 3 (ipykernel)",
   "language": "python",
   "name": "python3"
  },
  "language_info": {
   "codemirror_mode": {
    "name": "ipython",
    "version": 3
   },
   "file_extension": ".py",
   "mimetype": "text/x-python",
   "name": "python",
   "nbconvert_exporter": "python",
   "pygments_lexer": "ipython3",
   "version": "3.10.12"
  }
 },
 "nbformat": 4,
 "nbformat_minor": 5
}
