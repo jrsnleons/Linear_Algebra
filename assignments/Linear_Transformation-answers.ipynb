{
 "cells": [
  {
   "cell_type": "markdown",
   "metadata": {},
   "source": [
    "### Code Challenges"
   ]
  },
  {
   "cell_type": "markdown",
   "metadata": {},
   "source": [
    "1. Develop a python function from scratch that will find the determinants of any $n \\times n$ matrix."
   ]
  },
  {
   "cell_type": "code",
   "execution_count": 1,
   "metadata": {},
   "outputs": [
    {
     "name": "stdout",
     "output_type": "stream",
     "text": [
      "Determinant of the 3x3 matrix: 0\n"
     ]
    }
   ],
   "source": [
    "def determinant(matrix):\n",
    "    # Check if the matrix is square\n",
    "    if not all(len(row) == len(matrix) for row in matrix):\n",
    "        raise ValueError(\"Input matrix must be square\")\n",
    "\n",
    "    n = len(matrix)\n",
    "\n",
    "    # Base case for 2x2 matrix\n",
    "    if n == 2:\n",
    "        return matrix[0][0] * matrix[1][1] - matrix[0][1] * matrix[1][0]\n",
    "\n",
    "    det = 0\n",
    "\n",
    "    # Calculate the determinant using cofactor expansion\n",
    "    for i in range(n):\n",
    "        sign = (-1) ** i\n",
    "        cofactor = matrix[0][i] * determinant(get_minor(matrix, 0, i))\n",
    "        det += sign * cofactor\n",
    "\n",
    "    return det\n",
    "\n",
    "def get_minor(matrix, row, col):\n",
    "    # Helper function to get the minor matrix after removing a specified row and column\n",
    "    return [[matrix[i][j] for j in range(len(matrix[i])) if j != col] for i in range(len(matrix)) if i != row]\n",
    "\n",
    "# Example usage:\n",
    "matrix_3x3 = [\n",
    "    [1, 2, 3],\n",
    "    [4, 5, 6],\n",
    "    [7, 8, 9]\n",
    "]\n",
    "\n",
    "result = determinant(matrix_3x3)\n",
    "print(f\"Determinant of the 3x3 matrix: {result}\")\n"
   ]
  },
  {
   "cell_type": "markdown",
   "metadata": {},
   "source": [
    "2. Develop a python function from scratch that will find both the eigenvectors and eigenvalues of any $n \\times n$ matrix."
   ]
  },
  {
   "cell_type": "code",
   "execution_count": 4,
   "metadata": {},
   "outputs": [
    {
     "name": "stdout",
     "output_type": "stream",
     "text": [
      "Randomly generated 3x3 matrix:\n",
      "[4.92605085105567, 8.093371205156597, 5.574639917798332]\n",
      "[2.693065067783479, 1.8493450716114257, 8.020718936528088]\n",
      "[9.924768278780343, 6.502344302099097, 9.547390654368384]\n",
      "\n",
      "Determinant: 261.5340764664433\n",
      "Eigenvalues: [19.774361015514483, -0.8051528579086868, -1.0165640221373078]\n",
      "Eigenvectors:\n",
      "[0.5077337913887978, 0.4152557040477402, 0.7548305090136278]\n",
      "[0.266383651831498, 0.4615446274391577, -0.8461774677447779]\n",
      "[0.5012349735409185, 0.34542273503741594, -0.793376729819262]\n"
     ]
    }
   ],
   "source": [
    "import random\n",
    "\n",
    "def determinant(matrix):\n",
    "    # Check if the matrix is square\n",
    "    if not all(len(row) == len(matrix) for row in matrix):\n",
    "        raise ValueError(\"Input matrix must be square\")\n",
    "\n",
    "    n = len(matrix)\n",
    "\n",
    "    # Base case for 2x2 matrix\n",
    "    if n == 2:\n",
    "        return matrix[0][0] * matrix[1][1] - matrix[0][1] * matrix[1][0]\n",
    "\n",
    "    det = 0\n",
    "\n",
    "    # Calculate the determinant using cofactor expansion\n",
    "    for i in range(n):\n",
    "        sign = (-1) ** i\n",
    "        cofactor = matrix[0][i] * determinant(get_minor(matrix, 0, i))\n",
    "        det += sign * cofactor\n",
    "\n",
    "    return det\n",
    "\n",
    "def get_minor(matrix, row, col):\n",
    "    # Helper function to get the minor matrix after removing a specified row and column\n",
    "    return [[matrix[i][j] for j in range(len(matrix[i])) if j != col] for i in range(len(matrix)) if i != row]\n",
    "\n",
    "def dot_product(v1, v2):\n",
    "    return sum(x * y for x, y in zip(v1, v2))\n",
    "\n",
    "def normalize_vector(v):\n",
    "    norm = sum(x**2 for x in v)**0.5\n",
    "    return [x / norm for x in v]\n",
    "\n",
    "def power_iteration(matrix, max_iterations=1000, tolerance=1e-6):\n",
    "    n = len(matrix)\n",
    "    \n",
    "    # Initialize a random vector\n",
    "    eigen_vector = [random.uniform(0, 1) for _ in range(n)]\n",
    "\n",
    "    for _ in range(max_iterations):\n",
    "        # Perform matrix-vector multiplication\n",
    "        matrix_times_vector = [dot_product(row, eigen_vector) for row in matrix]\n",
    "\n",
    "        # Calculate the eigenvalue\n",
    "        eigenvalue = dot_product(matrix_times_vector, eigen_vector)\n",
    "\n",
    "        # Normalize the eigenvector\n",
    "        eigen_vector = normalize_vector(matrix_times_vector)\n",
    "\n",
    "        # Check for convergence\n",
    "        if sum((a - b)**2 for a, b in zip(matrix_times_vector, [eigenvalue * x for x in eigen_vector])) < tolerance:\n",
    "            break\n",
    "\n",
    "    return eigenvalue, eigen_vector\n",
    "\n",
    "def eigen(matrix):\n",
    "    \"\"\"\n",
    "    Find eigenvalues and eigenvectors of the given matrix using the power iteration method.\n",
    "\n",
    "    :param matrix: The square matrix for which eigenvalues and eigenvectors are to be found.\n",
    "    :return: List of eigenvalues and corresponding eigenvectors.\n",
    "    \"\"\"\n",
    "    n = len(matrix)\n",
    "\n",
    "    # Initialize lists to store eigenvalues and eigenvectors\n",
    "    eigenvalues = []\n",
    "    eigenvectors = []\n",
    "\n",
    "    for _ in range(n):\n",
    "        # Find the dominant eigenvalue and eigenvector using power iteration\n",
    "        eigenvalue, eigenvector = power_iteration(matrix)\n",
    "        \n",
    "        # Append the eigenvalue and eigenvector to the lists\n",
    "        eigenvalues.append(eigenvalue)\n",
    "        eigenvectors.append(eigenvector)\n",
    "\n",
    "        # Deflate the matrix by removing the contribution of the dominant eigenvalue and eigenvector\n",
    "        matrix = [[matrix[i][j] - eigenvalue * eigenvector[i] * eigenvector[j] for j in range(n)] for i in range(n)]\n",
    "\n",
    "    return eigenvalues, eigenvectors\n",
    "\n",
    "# Function to generate a random n x n matrix\n",
    "def generate_random_matrix(n):\n",
    "    return [[random.uniform(0, 10) for _ in range(n)] for _ in range(n)]\n",
    "\n",
    "# Test the functions with a randomly generated matrix\n",
    "n = 3  # Change this to test with different matrix sizes\n",
    "random_matrix = generate_random_matrix(n)\n",
    "\n",
    "print(f\"Randomly generated {n}x{n} matrix:\")\n",
    "for row in random_matrix:\n",
    "    print(row)\n",
    "\n",
    "det_result = determinant(random_matrix)\n",
    "eigenvalues, eigenvectors = eigen(random_matrix)\n",
    "\n",
    "print(f\"\\nDeterminant: {det_result}\")\n",
    "print(f\"Eigenvalues: {eigenvalues}\")\n",
    "print(f\"Eigenvectors:\")\n",
    "for eigenvector in eigenvectors:\n",
    "    print(eigenvector)\n"
   ]
  },
  {
   "cell_type": "markdown",
   "metadata": {},
   "source": [
    "3. Test your functions from a randomly generated $n \\times n$ matrix."
   ]
  },
  {
   "cell_type": "code",
   "execution_count": null,
   "metadata": {},
   "outputs": [],
   "source": []
  }
 ],
 "metadata": {
  "kernelspec": {
   "display_name": "Python 3",
   "language": "python",
   "name": "python3"
  },
  "language_info": {
   "codemirror_mode": {
    "name": "ipython",
    "version": 3
   },
   "file_extension": ".py",
   "mimetype": "text/x-python",
   "name": "python",
   "nbconvert_exporter": "python",
   "pygments_lexer": "ipython3",
   "version": "3.12.0"
  }
 },
 "nbformat": 4,
 "nbformat_minor": 2
}
